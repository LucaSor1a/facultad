{
 "cells": [
  {
   "cell_type": "code",
   "execution_count": null,
   "metadata": {},
   "outputs": [],
   "source": [
    "#Código\n",
    "print(\"hola\")"
   ]
  },
  {
   "cell_type": "markdown",
   "metadata": {},
   "source": [
    "### Hola"
   ]
  },
  {
   "cell_type": "code",
   "execution_count": null,
   "metadata": {},
   "outputs": [],
   "source": []
  },
  {
   "cell_type": "code",
   "execution_count": null,
   "metadata": {},
   "outputs": [],
   "source": [
    "#Comentario"
   ]
  },
  {
   "cell_type": "markdown",
   "metadata": {},
   "source": [
    "# título\n",
    "\n",
    "## Subtítulo\n",
    "\n",
    "### Sub subtítulo\n",
    "\n",
    "- Elemento\n",
    "- Elemento\n",
    "\n",
    "Esto es un <b>texto</b>\n",
    "\n",
    "<table style=\"font-size:20px\">\n",
    "    <tr>\n",
    "        <td>Hola</td>\n",
    "        <td>Hola</td>\n",
    "        <td>Hola</td>\n",
    "        <td>Hola</td>\n",
    "    </tr>\n",
    "     <tr>\n",
    "        <td>Hola</td>\n",
    "        <td>Hola</td>\n",
    "        <td>Hola</td>\n",
    "        <td>Hola</td>\n",
    "    </tr>\n",
    "</table>\n",
    "\n",
    "Texto"
   ]
  },
  {
   "cell_type": "code",
   "execution_count": null,
   "metadata": {},
   "outputs": [],
   "source": []
  },
  {
   "cell_type": "code",
   "execution_count": null,
   "metadata": {},
   "outputs": [],
   "source": []
  },
  {
   "cell_type": "code",
   "execution_count": null,
   "metadata": {},
   "outputs": [],
   "source": []
  }
 ],
 "metadata": {
  "kernelspec": {
   "display_name": "Python 3",
   "language": "python",
   "name": "python3"
  },
  "language_info": {
   "codemirror_mode": {
    "name": "ipython",
    "version": 3
   },
   "file_extension": ".py",
   "mimetype": "text/x-python",
   "name": "python",
   "nbconvert_exporter": "python",
   "pygments_lexer": "ipython3",
   "version": "3.7.6"
  }
 },
 "nbformat": 4,
 "nbformat_minor": 4
}
