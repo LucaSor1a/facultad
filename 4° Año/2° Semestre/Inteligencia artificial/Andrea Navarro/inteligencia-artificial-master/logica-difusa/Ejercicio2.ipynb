{
 "cells": [
  {
   "cell_type": "markdown",
   "metadata": {},
   "source": [
    "# Ejercicio 2 - Ascensor\n",
    "\n",
    "En un edificio existen tres ascensores que funcionan de manera simultanea. Se quiere crear un sistema que para cada  llamada realizada por cualquier usuario en cualquier piso asigne a cada ascensor un nivel de prioridad dependiendo de el estado en el que se encuentre y seleccione a aquel con mayor prioridad a la respuesta de dicho llamado.\n",
    "\n",
    "Los elementos a tener en cuenta son:\n",
    "\n",
    "### Distancia relativa\n",
    "\n",
    "Distancia entre la llamada y la ubicación actual del ascensor.\n",
    "Se calcula como:\n",
    "\n",
    "<b>DR</b> = 0 Si el ascensor está en camino al piso llamado\n",
    "   IF Está quieto \n",
    "      <b>DR</b>= |PISO ACTUAL - PISO DEL LLAMADO|\n",
    "   ELSE DR= |PISO DESTINO MAS CERCANO - PISO DEL LLAMADO|\n",
    "\n",
    "Los conjuntos de pertenencia estarán dados de la siguiente manera:\n",
    "\n",
    "<table style=\"font-size:15px;margin-left:0px\">\n",
    "    <tr>\n",
    "        <td>Triangular</td><td>[0 0 2]</td><td>Baja</td>\n",
    "    </tr>\n",
    "    <tr>\n",
    "        <td>Triangular</td><td>[1 3 6]</td><td>Media</td>\n",
    "    </tr>\n",
    "     <tr>\n",
    "        <td>Trapecio</td><td>[5 8 9 9]</td><td>Alta</td>\n",
    "    </tr>\n",
    "</table>\n",
    "\n",
    "\n",
    "### Tiempo de espera\n",
    "\n",
    "\n",
    "<b>TE</b> =|PISO ACTUAL - PISO DEL LLAMADO|\n",
    "\n",
    "<table style=\"font-size:15px;margin-left:0px\">\n",
    "    <tr>\n",
    "        <td>Trapecio</td><td>[0 0 2 4]</td><td>Corto</td>\n",
    "    </tr>\n",
    "    <tr>\n",
    "        <td>Triangular</td><td>[2 4.5 7]</td><td>Medio</td>\n",
    "    </tr>\n",
    "     <tr>\n",
    "        <td>Trapecio</td><td>[5 7 9 9]</td><td>Largo</td>\n",
    "    </tr>\n",
    "</table>\n",
    "\n",
    "<br>\n",
    "\n",
    "### Capacidad\n",
    "\n",
    "<table style=\"font-size:15px;margin-left:0px\">\n",
    "    <tr>\n",
    "        <td>Trapecio</td><td>[0 0 2 4]</td><td>Baja</td>\n",
    "    </tr>\n",
    "    <tr>\n",
    "        <td>Triangular</td><td>[2 4.5 7]</td><td>Media</td>\n",
    "    </tr>\n",
    "     <tr>\n",
    "        <td>Trapecio</td><td>[5 7 9 9]</td><td>Alta</td>\n",
    "    </tr>\n",
    "</table>\n",
    "\n",
    "<br>\n",
    "\n",
    "### Prioridad\n",
    "\n",
    "<table style=\"font-size:15px;margin-left:0px\">\n",
    "    <tr>\n",
    "        <td>Triangular</td><td>[0 0 0.5]</td><td>Baja</td>\n",
    "    </tr>\n",
    "    <tr>\n",
    "        <td>Triangular</td><td>[0.25 0.5 0.75]</td><td>Media</td>\n",
    "    </tr>\n",
    "     <tr>\n",
    "        <td>Triangular</td><td>[0.5 1 1]</td><td>Alta</td>\n",
    "    </tr>\n",
    "</table>\n",
    "\n"
   ]
  },
  {
   "cell_type": "markdown",
   "metadata": {},
   "source": [
    " - Definir un conjunto de reglas para establecer las prioridades a asignar en cada caso\n",
    " - Hacer diversas pruebas y verificar que los resultados sean consistentes"
   ]
  },
  {
   "cell_type": "code",
   "execution_count": 1,
   "metadata": {},
   "outputs": [],
   "source": [
    "%matplotlib inline\n",
    "import numpy as np\n",
    "import skfuzzy as fuzz\n",
    "from skfuzzy import control as ctrl\n",
    "import matplotlib\n",
    "import matplotlib.pyplot as plt"
   ]
  },
  {
   "cell_type": "markdown",
   "metadata": {},
   "source": [
    "<b>Fuente:</b> https://github.com/shubhamgupta1404/Fuzzy-Elevator-Control-System/blob/master/FuzzyLogicElevatorSystemPaper.pdf"
   ]
  },
  {
   "cell_type": "code",
   "execution_count": null,
   "metadata": {},
   "outputs": [],
   "source": []
  }
 ],
 "metadata": {
  "kernelspec": {
   "display_name": "Python 3",
   "language": "python",
   "name": "python3"
  },
  "language_info": {
   "codemirror_mode": {
    "name": "ipython",
    "version": 3
   },
   "file_extension": ".py",
   "mimetype": "text/x-python",
   "name": "python",
   "nbconvert_exporter": "python",
   "pygments_lexer": "ipython3",
   "version": "3.7.6"
  }
 },
 "nbformat": 4,
 "nbformat_minor": 4
}
