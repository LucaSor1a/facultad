{
 "cells": [
  {
   "cell_type": "markdown",
   "metadata": {},
   "source": [
    "# Ejercicio 1 - Heladería\n",
    "\n",
    "Se quiere calcular la catidad de clientes que tendrá una heladería dependiendo de la temperatura exterior.\n",
    "\n",
    "- Si la temperatura es <b>alta</b> entonces la heladería estará <b>llena</b>\n",
    "- Si la temperatura es <b>moderada</b> entonces la heladería estará <b>ocupada</b>\n",
    "- Si la temperatura es <b>baja</b> entonces la heladería estará <b>tranquila</b>\n",
    "\n",
    "El número máximo de clientes para el local es de 35 clientes.\n",
    "Definir los rangos de pertenencias para los antecedentes y consecuentes."
   ]
  },
  {
   "cell_type": "code",
   "execution_count": 1,
   "metadata": {},
   "outputs": [],
   "source": [
    "%matplotlib inline\n",
    "import numpy as np\n",
    "import skfuzzy as fuzz\n",
    "from skfuzzy import control as ctrl\n",
    "import matplotlib\n",
    "import matplotlib.pyplot as plt"
   ]
  },
  {
   "cell_type": "markdown",
   "metadata": {},
   "source": [
    "## Antecendentes\n",
    "\n",
    "Definir y graficar los antecedentes para el problema."
   ]
  },
  {
   "cell_type": "code",
   "execution_count": null,
   "metadata": {},
   "outputs": [],
   "source": []
  },
  {
   "cell_type": "markdown",
   "metadata": {},
   "source": [
    "## Consecuentes\n",
    "\n",
    "Definir y gráficar los consecuentes para el problema."
   ]
  },
  {
   "cell_type": "code",
   "execution_count": null,
   "metadata": {},
   "outputs": [],
   "source": []
  },
  {
   "cell_type": "markdown",
   "metadata": {},
   "source": [
    "## Reglas\n",
    "\n",
    "Definir las reglas para el sistema."
   ]
  },
  {
   "cell_type": "code",
   "execution_count": null,
   "metadata": {},
   "outputs": [],
   "source": []
  },
  {
   "cell_type": "markdown",
   "metadata": {},
   "source": [
    "## Simulación\n",
    "\n",
    "Simular y graficar la salida del sistema para las siguientes temperaturas.\n",
    " - -10º\n",
    " - 0º\n",
    " - 10º\n",
    " - 14º\n",
    " - 20º\n",
    " - 33 º"
   ]
  },
  {
   "cell_type": "markdown",
   "metadata": {},
   "source": []
  },
  {
   "cell_type": "code",
   "execution_count": null,
   "metadata": {},
   "outputs": [],
   "source": []
  },
  {
   "cell_type": "code",
   "execution_count": null,
   "metadata": {},
   "outputs": [],
   "source": []
  }
 ],
 "metadata": {
  "kernelspec": {
   "display_name": "Python 3",
   "language": "python",
   "name": "python3"
  },
  "language_info": {
   "codemirror_mode": {
    "name": "ipython",
    "version": 3
   },
   "file_extension": ".py",
   "mimetype": "text/x-python",
   "name": "python",
   "nbconvert_exporter": "python",
   "pygments_lexer": "ipython3",
   "version": "3.7.6"
  }
 },
 "nbformat": 4,
 "nbformat_minor": 4
}
