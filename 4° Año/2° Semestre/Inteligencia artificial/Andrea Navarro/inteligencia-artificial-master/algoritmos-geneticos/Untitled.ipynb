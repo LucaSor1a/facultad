{
 "cells": [
  {
   "cell_type": "code",
   "execution_count": 18,
   "id": "37497f28",
   "metadata": {},
   "outputs": [
    {
     "name": "stdout",
     "output_type": "stream",
     "text": [
      "6\n",
      "6\n",
      "6\n",
      "6\n",
      "6\n",
      "6\n",
      "[0.25, 0.20833333333333334, 0.125, 0.16666666666666666, 0.041666666666666664, 0.08333333333333333]\n",
      "0.875\n"
     ]
    }
   ],
   "source": [
    "fitness = [6199.729960000005, 3841.609960000001, -6734.506039999996, -5012.326039999998, -24810.17403999999, -13462.166039999996]\n",
    "rank = [6,5,3,4,1,2]\n",
    "p = []\n",
    "for i in range(len(rank)):\n",
    "    print(len(rank))\n",
    "    p.append(rank[i]/(len(rank)*(len(rank)-2)))\n",
    "print(p)\n",
    "print(sum(p))"
   ]
  },
  {
   "cell_type": "code",
   "execution_count": null,
   "id": "8007696f",
   "metadata": {},
   "outputs": [],
   "source": []
  },
  {
   "cell_type": "code",
   "execution_count": null,
   "id": "d481a598",
   "metadata": {},
   "outputs": [],
   "source": []
  }
 ],
 "metadata": {
  "kernelspec": {
   "display_name": "Python 3",
   "language": "python",
   "name": "python3"
  },
  "language_info": {
   "codemirror_mode": {
    "name": "ipython",
    "version": 3
   },
   "file_extension": ".py",
   "mimetype": "text/x-python",
   "name": "python",
   "nbconvert_exporter": "python",
   "pygments_lexer": "ipython3",
   "version": "3.7.6"
  }
 },
 "nbformat": 4,
 "nbformat_minor": 5
}
