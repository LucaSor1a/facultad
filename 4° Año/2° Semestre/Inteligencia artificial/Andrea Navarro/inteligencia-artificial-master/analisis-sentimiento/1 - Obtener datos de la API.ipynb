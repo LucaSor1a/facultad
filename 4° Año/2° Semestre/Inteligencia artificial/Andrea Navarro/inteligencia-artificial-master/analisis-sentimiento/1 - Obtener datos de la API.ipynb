{
 "cells": [
  {
   "cell_type": "markdown",
   "id": "00aa51a6",
   "metadata": {},
   "source": [
    "# Obtener datos de la API"
   ]
  },
  {
   "cell_type": "markdown",
   "id": "476598d5",
   "metadata": {},
   "source": [
    "## Obtener una cuenta de Twitter Developer\n",
    "\n",
    "- Crear una cuenta en <a href=\"https://twitter.com/\">Twitter</a> o ingresar a una ya creada\n",
    "- Solicitar una <a href=\"https://developer.twitter.com/en/portal/petition/use-case\">cuenta de developer</a>  \n",
    "<br/>\n",
    "<img src=\"img/twitter_api_1.png\" style=\"width:50%;float:left;border:1px solid black\">\n",
    "<img src=\"img/twitter_api_2.png\" style=\"width:50%;float:left;border:1px solid black\">\n",
    "<img src=\"img/twitter_api_3.png\" style=\"width:50%;float:left;border:1px solid black\">\n",
    "<img src=\"img/twitter_api_4.png\" style=\"width:50%;float:left;border:1px solid black\">\n",
    "\n",
    "#### How will you use the Twitter API or Twitter Data?\n",
    "\n",
    "I will search and filter tweets with specific hashtags in order to perform data mining and sentiment analysis practices. These tasks are part of the Artificial Intelligence course. The extracted data will not be used for any other purpose.\n",
    "\n",
    "#### Are you planning to analyze Twitter data?\n",
    "\n",
    "I will perform sentiment analysis of the content of the tweets and their geographical location. The type of content of each tweet will be evaluated (links, images, videos)\n",
    "\n",
    "\n",
    "<br/><br/>\n",
    "<img src=\"img/twitter_api_5.png\" style=\"width:50%;float:left;border:1px solid black\">\n",
    "<img src=\"img/twitter_api_6.png\" style=\"width:50%;float:left;border:1px solid black\">\n",
    "\n",
    "\n",
    "### Responder mail\n",
    "\n",
    "Si Twitter envía un mail solicitando más información responder con el siguiente mensaje.\n",
    "\n",
    "<code>\n",
    "    I will search and filter tweets with specific hashtags in order to perform data mining and sentiment analysis practices. These tasks are part of the Artificial Intelligence course. The extracted data will not be used for any other purpose.\n",
    "    I will perform sentiment analysis of the content of the tweets and their geographical location. The type of content of each tweet will be evaluated (links, images, videos)\n",
    "    I will not be using the Tweeting, Retweeting, or liking content. I will only use the API to obtain tweets content.\n",
    "    The content of the tweets will not be shown. The content will only be used to carry out data analysis exercises during the course.\n",
    "</code>"
   ]
  },
  {
   "cell_type": "markdown",
   "id": "bb0c7749",
   "metadata": {},
   "source": [
    "## Crear aplicación\n",
    "\n",
    "- Crear proyecto\n",
    "- Crear aplicación dentro del proyecto\n",
    "- Obtener y guardar claves (copiar todas las claves antes de continuar ya que no pueden ser accedidas más adelante)\n",
    "\n",
    "<br/>\n",
    "<img src=\"img/twitter_api_8.png\" style=\"width:30%;float:left;border:1px solid black\">\n",
    "<img src=\"img/twitter_api_7.png\" style=\"width:70%;float:left;border:1px solid black\">\n"
   ]
  },
  {
   "cell_type": "markdown",
   "id": "14ffa3e4",
   "metadata": {},
   "source": [
    "## Cargar Token en variables de entorno\n",
    "\n",
    " - Cargar el valor del token en un archivo .env\n",
    " <code>export 'BEARER_TOKEN'='valor del bearer token' </code>\n",
    " - Agregar el archivo .env dentro del .gitignore en caso de trabajar en repositorio"
   ]
  },
  {
   "cell_type": "markdown",
   "id": "a6817282",
   "metadata": {},
   "source": [
    "## Cargar valor del Token en la aplicación"
   ]
  },
  {
   "cell_type": "code",
   "execution_count": 2,
   "id": "0213a32e",
   "metadata": {},
   "outputs": [
    {
     "name": "stdout",
     "output_type": "stream",
     "text": [
      "AAAAAAAAAAAAAAAAAAAAABiHUAEAAAAAgEDh%2B6fJIUAuQBwPtqQt0Za5Ytg%3DbrOpEABGjYREKxnKSQKPjh1hKZVj7GE20Gim2aROaWsXTi7nWd\n"
     ]
    }
   ],
   "source": [
    "import os\n",
    "from dotenv import load_dotenv\n",
    "# Cargar valores del archivo .env en las variables de entorno\n",
    "load_dotenv()\n",
    "# Cargar valor del token a variable\n",
    "bearer_token = os.environ.get(\"BEARER_TOKEN\")"
   ]
  },
  {
   "cell_type": "markdown",
   "id": "e6a81d9c",
   "metadata": {},
   "source": [
    "## Definir consulta a la API\n",
    "\n",
    "### URL de la consulta\n",
    "\n",
    "Definir la URL de acuerdo a los datos requeridos de acuerdo a la documentación de la <a href=\"https://developer.twitter.com/en/docs/twitter-api/api-reference-index\">API</a>"
   ]
  },
  {
   "cell_type": "code",
   "execution_count": 3,
   "id": "83639c4e",
   "metadata": {},
   "outputs": [],
   "source": [
    "url = \"https://api.twitter.com/2/tweets/search/recent\""
   ]
  },
  {
   "cell_type": "markdown",
   "id": "ad037fc5",
   "metadata": {},
   "source": [
    "## Definir parámetros adicionales\n",
    "\n",
    "Definr valores como el rango de fecha, hashtag, contenido y campos requeridos."
   ]
  },
  {
   "cell_type": "code",
   "execution_count": 4,
   "id": "2a1db13b",
   "metadata": {},
   "outputs": [],
   "source": [
    "params = {\n",
    "    'query': '#machinelearning -is:retweet',\n",
    "    'tweet.fields':'created_at',\n",
    "    'max_results':100\n",
    "}"
   ]
  },
  {
   "cell_type": "markdown",
   "id": "49e682b1",
   "metadata": {},
   "source": [
    "## Definir cabecera\n",
    "La cabecera debe llevar el Token de autenticación para que la consulta sea autorizada\n"
   ]
  },
  {
   "cell_type": "code",
   "execution_count": 5,
   "id": "c61ebc83",
   "metadata": {},
   "outputs": [],
   "source": [
    "headers = {\n",
    "    \"Authorization\": f\"Bearer {bearer_token}\",\n",
    "    \"User-Agent\":\"v2FullArchiveSearchPython\"\n",
    "} "
   ]
  },
  {
   "cell_type": "markdown",
   "id": "c44ae17d",
   "metadata": {},
   "source": [
    "## Realizar consulta"
   ]
  },
  {
   "cell_type": "code",
   "execution_count": 6,
   "id": "797b5954",
   "metadata": {},
   "outputs": [
    {
     "name": "stdout",
     "output_type": "stream",
     "text": [
      "<Response [200]>\n",
      "{'data': [{'created_at': '2021-09-27T23:05:37.000Z', 'id': '1442626512339996673', 'text': 'The latest The Chris Sterry Daily! https://t.co/cj1lVLlzNW Thanks to @charlottemilne0 @theJeremyVine #machinelearning #ai'}, {'created_at': '2021-09-27T23:05:15.000Z', 'id': '1442626418102390790', 'text': '#ai #ml #artificialintelligence #machinelearning #datascience #bigdata #analytics #blockchain #tech #data @kuriharan @mvollmer1 @rwang0 @DunkenKBliths @nigewillson\\nRobotic process automation and intelligent automation are accelerating, study finds https://t.co/pMyQqVtwVK'}, {'created_at': '2021-09-27T23:05:03.000Z', 'id': '1442626369075048451', 'text': 'A neural network produced synthetic T2 maps of cartilage based on anatomical MRI scans not designed for T2 mapping https://t.co/3RiueKegBI @RosenLab @MGHMartinos #AI #ML #MachineLearning https://t.co/RLrecYvjOr'}, {'created_at': '2021-09-27T23:04:07.000Z', 'id': '1442626131736281089', 'text': 'The latest The Affiliate marketing Daily! https://t.co/0O1yPV4mMb Thanks to @RSFSocFinance @Zebras_Unite @steve_letournea #ai #machinelearning'}, {'created_at': '2021-09-27T23:03:15.000Z', 'id': '1442625914785914881', 'text': \"Hands-on Azure Cognitive Services is out! I'm incredibly grateful to my co-authors, Ed Price and @g_arora, and Microsoft #Cognitive Services Team, which continues to build an amazing product! @apress #machinelearning #ml #mvpbuzz #MicrosoftAI @Azure #AI https://t.co/251LONhF6A https://t.co/o0jUR8Mtcl\"}, {'created_at': '2021-09-27T23:02:45.000Z', 'id': '1442625790311608321', 'text': 'Two of our amazing #WomeninDataScience, Ashwini Chandrashekharaiah and Debanjana Banerjee, will be presenting a free #WiDSworkshop on #Bayesian #MachineLearning &amp; Sampling Methods at WiDS Stanford on Wednesday! Register here for all 4: https://t.co/8ZByOvibSE  #WIDS #datascience https://t.co/YhrlsIQISo'}, {'created_at': '2021-09-27T23:02:06.000Z', 'id': '1442625625110552576', 'text': 'How to pick the right horses in AI/ML increasingly competitive race https://t.co/u5HLWCyQFZ #AI #ML #machinelearning #webinar #insideanalysis'}, {'created_at': '2021-09-27T23:01:09.000Z', 'id': '1442625386576326656', 'text': 'The Python Programming For Everyone Immersive Training #BigData #learning #machinelearning  https://t.co/6aXqO3IqK3'}, {'created_at': '2021-09-27T23:00:34.000Z', 'id': '1442625240903950345', 'text': 'UN Rights Chief Calls for Moratorium on Artificial Intelligence Systems -  https://t.co/iivpqgPMQQ\\n\\n#ArtificialIntelligence #AI #DataScience #100DaysOfCode #Python #MachineLearning #BigData #DeepLearning #NLP #Robots #IoT'}, {'created_at': '2021-09-27T23:00:20.000Z', 'id': '1442625179008618498', 'text': 'How to Learn #MachineLearning from Scratch - Machine Learning Specialist- Emirhan BULUT\\nhttps://t.co/9SjvtJoG8c'}, {'created_at': '2021-09-27T23:00:14.000Z', 'id': '1442625155461697536', 'text': '#hclswlobp #nocode #lowcode #javascript #github #nodejs #cybersecurity #devops #100DaysOfCode #datascience #ai #bot\\xa0\\xa0\\xa0\\xa0\\xa0 #codenewbie #iot #machinelearning #DEVCommunity #Python #Serverless #womenintech #data #microsoft #flutter https://t.co/VzkIfIApiA https://t.co/FO8hFfcXX1'}, {'created_at': '2021-09-27T23:00:13.000Z', 'id': '1442625149673615364', 'text': 'How to Get Started With Zero Trust in a #SaaS Environment\\n\\nhttps://t.co/a7tCZYbVnG @DarkReading\\n\\n#DataSecurity #Privacy #100DaysOfCode #Security #SpyWare\\n#MachineLearning #Phishing #Cloud #Ransomware #Cybersecurity\\n#Infosec #CyberAttack #DataProtection #Malware #Hacking https://t.co/bIbc7trhQU'}, {'created_at': '2021-09-27T23:00:11.000Z', 'id': '1442625142417408002', 'text': '#artificialintelligence #ai #machinelearning #technology #datascience #deeplearning #scala #programming #robotics #tech #coding #bigdata #iot #computerscience #innovation #data #dataanalytics #datascientist #engineering #robot #automation #ml #business #programmer https://t.co/dmvE61gLTy'}, {'created_at': '2021-09-27T23:00:09.000Z', 'id': '1442625133798113285', 'text': 'Hello\\nWe give high quality assignment assistance:\\n\\nHomework\\nFull classes\\nOnline classes\\nExams\\nEssays\\n#Serverless\\n#MachineLearning  #DataScience #5G #100DaysOfCode\\n#Python #Cybersecurity #BigData #AI #IoT #DeepLearning\\n#ArtificialIntelligence #NLP https://t.co/lVI8ikn9CQ'}, {'created_at': '2021-09-27T23:00:08.000Z', 'id': '1442625132292448258', 'text': 'The Challenges and Opportunities of IoT Edge Computing for the Energy Sector\\n\\n#technology #IoT #AI #machinelearning #energysector https://t.co/4QlwCX8jxL'}, {'created_at': '2021-09-27T23:00:06.000Z', 'id': '1442625120388980738', 'text': '49% of companies explored or planned to use Machine Learning (ML) in 2019, according to Webroot. And the trend has continued to rise ever since.\\n\\nTo learn more, click the link: \\nhttps://t.co/KAT8M9aZa7\\n\\n#Webhead\\n#MachineLearning #Technology #SanAntonio \\n#SATX #Texas #ITFirm'}, {'created_at': '2021-09-27T23:00:01.000Z', 'id': '1442625102131220483', 'text': 'Deep Learning Targets Drug Combos for COVID-19 https://t.co/9QdPChPn5z #DL #AI #ML #DeepLearning  #ArtificialIntelligence #MachineLearning #ComputerVision #AutonomousVehicles #NeuroMorphic #Robotics'}, {'created_at': '2021-09-27T23:00:01.000Z', 'id': '1442625100482629637', 'text': '#generativeart - #AI  #vqganclip #clip #hicetnunc\\n\\nhttps://t.co/0gBQxujfKI\\n\\n@hicetnunc2000 \\n@Hicetnunc_nft \\n \\n@Hicetnunc_nft\\n\\n#MachineLearning #NFT #NFTCommunity #tezosnft #tezosnfts #vqgan #nftart #VQGAN  #aiart  #generativearts #CleanNFTs  #OBJKT4OBJKT  #Tezos #tezoscommunity https://t.co/rJt5KKUT6l'}, {'created_at': '2021-09-27T22:59:51.000Z', 'id': '1442625059546349571', 'text': 'The latest The Helen Hanson Daily! https://t.co/qCTR36Zrgh Thanks to @mimuluxArt @JocelyneOuang @Shi4Tech #ai #machinelearning'}, {'created_at': '2021-09-27T22:59:15.000Z', 'id': '1442624909868474368', 'text': 'The latest The Artificial intelligence Daily! https://t.co/DmCfrOfgNH Thanks to @GiovanniTode #machinelearning #ai'}, {'created_at': '2021-09-27T22:57:57.000Z', 'id': '1442624581345415168', 'text': 'The latest The Ash Hasen Daily! https://t.co/wjjL3zNAUJ Thanks to @Stat4Real @earnmoreeasy #frizemedia #machinelearning'}, {'created_at': '2021-09-27T22:55:00.000Z', 'id': '1442623840375431174', 'text': 'What are artificial neural networks and deep learning? How do they work? Where are they used today and what do they mean for marketers? Check out my webinar for those answers and more. https://t.co/JbGGV2rlm5 #cx #machinelearning'}, {'created_at': '2021-09-27T22:53:33.000Z', 'id': '1442623475416457226', 'text': '5 strategies to democratize data science in your organization.\\n\\nhttps://t.co/L6uPO6fP97\\n\\n#DataScience #Fintech #5G #BigData #Analytics #Data #MachineLearning #Deeplearning #ArtificialIntelligence'}, {'created_at': '2021-09-27T22:53:30.000Z', 'id': '1442623462997102592', 'text': 'fast-wavenet: Speedy Wavenet generation using dynamic programming :zap:\\nLang: Python\\n⭐️ 1700\\n#MachineLearning\\nhttps://t.co/Ki5J549Bu7'}, {'created_at': '2021-09-27T22:49:35.000Z', 'id': '1442622476488486919', 'text': 'Data Science Techniques: What Is Correlation? Rstudio full walkthrough https://t.co/wVdoc92bii #AI #MachineLearning #DataScience #ArtificialIntelligence\\n\\nTrending AI/ML Article Identified &amp; Digested via Granola; a Machine-Driven RSS Bot by Ramsey Elbasheer https://t.co/VsmWsv8Kxb'}, {'created_at': '2021-09-27T22:49:02.000Z', 'id': '1442622335387721733', 'text': 'Tell me your secret of improving programming logic for beginners and those who struggle with problems.\\n\\n#Python3 #Java #javascript #DEVCommunity #programming #Coding #DSA #CPP #Data #dataviz #MachineLearning #pythonprogramming #interview #Google #Amazon #Microsoft'}, {'created_at': '2021-09-27T22:48:37.000Z', 'id': '1442622232023404544', 'text': 'Python Definition and Productivity. SEO\\nhttps://t.co/hFv4ptzAk1\\n#python #programming #coding #java #javascript #programmer #snake #developer #html #machinelearning #code #coder #computerscience #pythonprogramming #ballpython #SEO #technology https://t.co/VrqMGdcmIN'}, {'created_at': '2021-09-27T22:48:28.000Z', 'id': '1442622193708511234', 'text': 'In this blog, Pratik Choudhari writes about #virtualenvwrapper , a #python library to manage environments in python which runs on top of the good old virtualenv. In the second part, he reviews how the #VEWCLI commands are similar to #Linux commands like mkdir\\n#MachineLearning #AI https://t.co/kLbLgMxXYx https://t.co/S7zVfwQCsY'}, {'created_at': '2021-09-27T22:45:12.000Z', 'id': '1442621373076094985', 'text': '#hclswlobp #nocode #lowcode #javascript #github #nodejs #cybersecurity #devops #100DaysOfCode #datascience #ai #bot #codenewbie #iot #machinelearning #Python #Serverless #womenintech #flutter https://t.co/tcjbQ374Y9'}, {'created_at': '2021-09-27T22:45:10.000Z', 'id': '1442621362976219142', 'text': '#AI ethics and bias in AI: Towards #MachineLearning literacy\\n\\nAs AI is playing a larger and larger role into our lives, the conversation around topics such as AI ethics and bias becomes even more important. Read More\\n\\nhttps://t.co/cSMMkg3TEO\\n\\n#students #CEOs #startups #aiadoption'}, {'created_at': '2021-09-27T22:45:05.000Z', 'id': '1442621343590199301', 'text': 'Researchers’ algorithm designs soft #robots that sense\\n\\nhttps://t.co/z9C9mTykyf v/ @Robohub @MIT\\n\\n#Robotics #AI #MachineLearning\\nCc @DrJDrooghaag @JolaBurnett @AkwyZ @jblefevre60 @KirkDBorne @sallyeaves @JoannMoretti'}, {'created_at': '2021-09-27T22:44:21.000Z', 'id': '1442621159732822018', 'text': 'Building Neural Networks from Scratch with Python Code and Math in Detail— II → https://t.co/lDm8AxjWY2 via @Towards_AI\\n\\n#TowardsAI #machinelearning #ml #neuralnetworks #tutorial #education via @Towards_AI #TowardAI'}, {'created_at': '2021-09-27T22:43:37.000Z', 'id': '1442620975367872514', 'text': \"Supervised Learning with scikit-learn. Learn how to build and tune predictive models and evaluate how well they'll perform on unseen data https://t.co/TjUpbIdUTX #predictive #machinelearning #datascience\"}, {'created_at': '2021-09-27T22:43:07.000Z', 'id': '1442620846263001088', 'text': 'Good News for #DataScientist #MachineLearning, #python lovers #Jupyterlab now in a standalone desktop app with inbuilt #Python3 and #anaconda for Mac, linux, and windows.\\n\\nDownload it from the link below\\nhttps://t.co/06GkQ7fHDo'}, {'created_at': '2021-09-27T22:42:27.000Z', 'id': '1442620681838080002', 'text': \"Even though not being able to fully understand every detail of this article, it's worth a sneak peek. \\n\\n#cloudcomputing #machinelearning #datamining #datascience https://t.co/knVV5sDfRr\"}, {'created_at': '2021-09-27T22:42:18.000Z', 'id': '1442620641056788483', 'text': 'Analyzing the multiprocesses of #VQGAN + #CLIP.\\nDo you think that Artificial Intelligence will have a place in the art of the future?\\n.\\n#aiart #machineleaning #VQGAN #vqganclip #exploring  #future #MachineLearning #art https://t.co/mGm4cEZK6p'}, {'created_at': '2021-09-27T22:42:01.000Z', 'id': '1442620572991623169', 'text': 'Vacancy: Senior Machine Learning Scientist at Recursion [@recursionpharma] in #Montreal 🇨🇦 #machinelearning #ml #keras https://t.co/KBP3lGo4sX'}, {'created_at': '2021-09-27T22:41:09.000Z', 'id': '1442620353663090688', 'text': 'Explainable AI #ArtificialIntelligence #learning #machinelearning via https://t.co/6h4xRcnpBu https://t.co/2FkMZH7gCS'}, {'created_at': '2021-09-27T22:41:00.000Z', 'id': '1442620315947835392', 'text': 'Looking for papers/resources/examples of how AI is used/promises to understand multifactorial metabolic disease. Eg. Are there examples of AI helping us tease apart the contributions of diet, exercise, and genetics in liver disease/diabetes? #MachineLearning #AcademicTwitter'}, {'created_at': '2021-09-27T22:40:48.000Z', 'id': '1442620265884749825', 'text': \"I've just updated my webpage with some great articles. Check it out https://t.co/90sILcamox #machinelearning #ai\"}, {'created_at': '2021-09-27T22:39:58.000Z', 'id': '1442620054055575552', 'text': 'Risk-free projects with Construction IQ 🚀. \\nWith the help of #machinelearning, project data is scanned and high risk areas  are identified on time to save $$ and time. See how it works here: https://t.co/1CXLDQswnG\\n\\n#AutodeskConstructionCloud'}, {'created_at': '2021-09-27T22:39:10.000Z', 'id': '1442619854952058890', 'text': 'Bootstrapping\\u200a—\\u200aData Science Technique https://t.co/EfN4IBjbIy #AI #MachineLearning #DataScience #ArtificialIntelligence\\n\\nTrending AI/ML Article Identified &amp; Digested via Granola; a Machine-Driven RSS Bot by Ramsey Elbasheer https://t.co/hHJzu1IRBF'}, {'created_at': '2021-09-27T22:39:01.000Z', 'id': '1442619817152888835', 'text': 'Accelerate time to market with Microsoft Azure. Take their 30-day learning journey to learn best practices for #MachineLearning on Azure through hands-on tutorials. \\nLearn more: https://t.co/1W9dKeGDkx https://t.co/6JKj0fPINU'}, {'created_at': '2021-09-27T22:37:33.000Z', 'id': '1442619448737755136', 'text': '‘Speaking Portrait’ Turns Photos into Eerily Realistic Talking Heads https://t.co/SLBnpZxeiH #MachineLearning #DeepLearning https://t.co/DStBeQCLSq'}, {'created_at': '2021-09-27T22:37:26.000Z', 'id': '1442619418908012550', 'text': \"In need of high-quality essays &amp; research papers?. Let's talk.\\n\\n#DataAnalytics #MachineLearning #BigData #DataScience #PyTorch #Python #TensorFlow #JavaScript #Flutter #CloudComputing #WomenWhoCode #Programming #Coding #100DaysofCode #AI \\nDM:\\nhttps://t.co/ISu4CHmP7N\"}, {'created_at': '2021-09-27T22:37:05.000Z', 'id': '1442619330810814469', 'text': '#DataScience HAS21 Virtual Wraps Up Three Days Of Impactful Programming On Data And Analytics In Healthcare - AiThority https://t.co/Z3p7o4jm32 &gt;&gt; #data #business #dataanalytics #bigdata #machinelearning #coding #java #python'}, {'created_at': '2021-09-27T22:36:25.000Z', 'id': '1442619162011049998', 'text': 'Unreal Engine 5 To Steam #MachineLearning #bigdata #learning  https://t.co/xnIuMtXakn'}, {'created_at': '2021-09-27T22:36:17.000Z', 'id': '1442619130104926211', 'text': '“#Robots and #machinelearning researchers combine forces to speed up the drug development process” https://t.co/rJsc2jBtYm via @techrepublic\\n#ArtificialIntelligence #AI #DigitalTransformation #tech #technology #innovation'}, {'created_at': '2021-09-27T22:36:12.000Z', 'id': '1442619106067353601', 'text': 'The latest \"The DeShaunsMrk Daily Social\"! https://t.co/6FUdEvtayW #ai #machinelearning'}, {'created_at': '2021-09-27T22:35:56.000Z', 'id': '1442619042599165954', 'text': '18,800 suscriptores!!!\\nGracias por su constante apoyo!!!\\n\\nhttps://t.co/IevBoNDf8A\\n\\n#youtube #youtuber #rstats #rstatsES #datascience #100daysofcode #machinelearning #coding #programming https://t.co/DZZkRAwgdy'}, {'created_at': '2021-09-27T22:35:13.000Z', 'id': '1442618858674720775', 'text': 'The review by @ncooper57 et al. canvases work appearing in the most prominent #SoftwareEngineering and #DeepLearning conferences and journals, spans 128 papers across 23 unique #SEtasks and centers the analysis around the components of learning.\\n#MachineLearning #AI https://t.co/lMMoZhppQ4 https://t.co/iJgbb8JmpH'}, {'created_at': '2021-09-27T22:34:20.000Z', 'id': '1442618639593598982', 'text': 'Zombie Formalist №1 (Circles) | #ZombieFormalist #Art #MachineLearning #GenerativeArt https://t.co/TV9AtblksD'}, {'created_at': '2021-09-27T22:33:29.000Z', 'id': '1442618424354648070', 'text': 'Great showing by @TheMSNEPGroup at the  @UofNorthDakota - @NDSU BME symposium with presentations by @IlhamEssafri , @bghosh4u , Solene and Nazim 👏👏#compchem #MachineLearning #Biomedical #Engineering #materials https://t.co/7Jrxzjf7MP'}, {'created_at': '2021-09-27T22:33:20.000Z', 'id': '1442618386962288642', 'text': \"Preparing for the 'golden age' of #ArtificialIntelligence and #MachineLearning\\n2021-09-27T16:12:23Z\\n\\n#Numpy #JQuery #MachineLearning #ComputerArchitecture #Coursera #Bluetooth #WiFi #NLP #DicisionForests #SoftwareDefinedNetworking \\n\\nhttps://t.co/O1LnIzSQKD\"}, {'created_at': '2021-09-27T22:33:16.000Z', 'id': '1442618368230625281', 'text': 'The latest The Artificial intelligence Daily! https://t.co/jQ6lqh0Q5v #machinelearning #ai'}, {'created_at': '2021-09-27T22:32:29.000Z', 'id': '1442618173224857601', 'text': 'HP ZBook Studio G8 Review: Rock Solid Performance, Painful Price Tag via noreply@blogger.com (Unknown) https://t.co/PYpuyyjjwA #ML #AI #Analytics #Automation #MachineLearning https://t.co/46ItTgI0qm'}, {'created_at': '2021-09-27T22:31:50.000Z', 'id': '1442618009550475267', 'text': 'My newest blog article walks through how to optimize your machine learning model. Predicting wine prices is used as an example to show how hyperparameter tuning can increase prediction accuracy. \\n\\n#DataScience #MachineLearning #DataAnalytics \\n\\nhttps://t.co/dPxNcdjQVc'}, {'created_at': '2021-09-27T22:31:30.000Z', 'id': '1442617924779446272', 'text': 'O último The digfish daily fisheries! https://t.co/i1mqZVe7GT Agradecimentos a @xo4n @JChrisPires #ai #machinelearning'}, {'created_at': '2021-09-27T22:31:14.000Z', 'id': '1442617856605102080', 'text': 'Brit Introduces A Machine Learning Algorithm To Accelerate Post-Catastrophe Claims Response\\n\\nhttps://t.co/uQ8qRxR09L\\n#MachineLearning #ArtificialIntelligence #insurtech'}, {'created_at': '2021-09-27T22:30:23.000Z', 'id': '1442617644948017152', 'text': 'The latest The Picasso Creative Writing®  Daily! https://t.co/OQ01q2JDJX Thanks to @RitupaGhosh @JoseWorksTech #ai #machinelearning'}, {'created_at': '2021-09-27T22:30:12.000Z', 'id': '1442617596352815107', 'text': '#hclswlobp #nocode #lowcode #javascript #github #nodejs #cybersecurity #devops #100DaysOfCode #datascience #ai #bot\\xa0\\xa0\\xa0\\xa0\\xa0 #codenewbie #iot #machinelearning #DEVCommunity #Python #Serverless #womenintech #data #microsoft #flutter \\n#postcovid #marketing https://t.co/CKzpsKQJKL'}, {'created_at': '2021-09-27T22:29:59.000Z', 'id': '1442617543106117636', 'text': 'Advancing sports analytics through AI research https://t.co/Rxn1g8ul3Y\\n#AI #DeepLearning #MachineLearning #DataScience'}, {'created_at': '2021-09-27T22:29:54.000Z', 'id': '1442617523900399617', 'text': '¡Ya salió mi periódico Sobrevuelo Digital! ¡Breaking News twice a day! https://t.co/2ApTyuCkAN Gracias/Thanks a/to @BuzzEdition @NevilleGaunt #ai #machinelearning'}, {'created_at': '2021-09-27T22:29:16.000Z', 'id': '1442617363958992896', 'text': 'Robotic process automation and intelligent automation are accelerating, study finds https://t.co/n3zD3ZEaVq #AI #MachineLearning #DataScience #ArtificialIntelligence\\n\\nTrending AI/ML Article Identified &amp; Digested via Granola; a Machine-Driven RSS Bot by Ramsey Elbasheer https://t.co/9QQABgPtII'}, {'created_at': '2021-09-27T22:28:45.000Z', 'id': '1442617232178176001', 'text': 'There are still 10 of 20 copies available of Abstract Color Splash for .015 $ETH gas free\\n\\nGet yours now\\n\\n#AI #ArtificialIntelligence\\n#abstractart #machinelearning #rtitbot #NFT @opensea #openseanft #NFTs #generativeart\\n\\nhttps://t.co/gor3tIKr1d'}, {'created_at': '2021-09-27T22:27:41.000Z', 'id': '1442616962492764164', 'text': 'RT Paula_Piccard: Mathematics For Machine Learning Course (FREE)\\n\\nhttps://t.co/luY1wOIyEU Marktechpost\\n\\n#MachineLearning #AI #Python #Dat…'}, {'created_at': '2021-09-27T22:27:40.000Z', 'id': '1442616961565872128', 'text': 'RT Paula_Piccard: Mathematics For Machine Learning Course (FREE)\\n\\nhttps://t.co/luY1wOqXNm Marktechpost\\n\\n#MachineLearning #AI #Python #Dat…'}, {'created_at': '2021-09-27T22:27:35.000Z', 'id': '1442616938262196225', 'text': 'Watch Webinar: Mental Models to Guide Product Decisions by Google Product Manager Live\\n🔴🅻🅸🆅🅴🔴⏩👉https://t.co/I8lQZ9z6Fq\\n🔴🅻🅸🆅🅴🔴⏩👉https://t.co/I8lQZ9z6Fq\\n#ai #webinar #google #marketing #innovation #digitalmarketing #machinelearning #customerexperience #cx #martech'}, {'created_at': '2021-09-27T22:27:09.000Z', 'id': '1442616831710162949', 'text': 'If you want to learn more about #MachineLearning I recommend: \\n\\n🔹 ML Course on Algorithms (ADVANCED): https://t.co/kh2YSS6Uko\\n\\n🔹 From Finance and Accounting to Data Science : Machine Learning (BEGINNER FRIENDLY GUIDE) \\nhttps://t.co/a015dsJeIS'}, {'created_at': '2021-09-27T22:27:05.000Z', 'id': '1442616811665584129', 'text': 'Watch Webinar: Mental Models to Guide Product Decisions by Google Product Manager Live\\n🔴🅻🅸🆅🅴🔴⏩👉 https://t.co/I8lQZ9z6Fq\\n🔴🅻🅸🆅🅴🔴⏩👉 https://t.co/I8lQZ9z6Fq\\n#ai #webinar #google #marketing #innovation #digitalmarketing #machinelearning #CustomerExperience  #cx #martec'}, {'created_at': '2021-09-27T22:26:54.000Z', 'id': '1442616767491321858', 'text': 'Overwhelmed with work.,dm us..,\\n#DataAnalytics #MachineLearning #BigData #DataScience #PyTorch #Python #TensorFlow #JavaScript #ReactJS #Flutter #CloudComputing #DataScientist #WomenWhoCode #Programming #Coding #100DaysofCode #DEVCommunity #opensource #AI https://t.co/6SogPOJUoL'}, {'created_at': '2021-09-27T22:26:47.000Z', 'id': '1442616739087462400', 'text': 'Global Big Data Conference #Transformation #digital #learning #machinelearning via https://t.co/l0Y4qQSQ4o https://t.co/pBngX7J6or'}, {'created_at': '2021-09-27T22:26:05.000Z', 'id': '1442616560380690435', 'text': 'The latest Tech_Uncensored! https://t.co/NMPsPuoOM8 #machinelearning #ai'}, {'created_at': '2021-09-27T22:26:00.000Z', 'id': '1442616539753164806', 'text': '#generativeart - #AI  #vqganclip #clip #hicetnunc\\n\\nhttps://t.co/brs0ptIIXP\\n\\n@hicetnunc2000 \\n@Hicetnunc_nft \\n \\n@Hicetnunc_nft\\n\\n#MachineLearning #NFT #NFTCommunity #tezosnft #tezosnfts #vqgan #nftart #vqgan #aiart  #generativearts #CleanNFTs  #OBJKT4OBJKT #Tezos #tezoscommunity https://t.co/YwUQGijMsm'}, {'created_at': '2021-09-27T22:25:30.000Z', 'id': '1442616415715045378', 'text': 'We give high quality assignment assistance:\\n\\nAssignment\\nHomework\\nFull classes\\nOnline classes\\nExams\\nEssays\\n#Serverless\\n#MachineLearning  #DataScience #5G #100DaysOfCode\\n#Python #Cybersecurity #BigData #AI #IoT #DeepLearning\\n#ArtificialIntelligence #NLP https://t.co/mHirIlqnzX'}, {'created_at': '2021-09-27T22:25:12.000Z', 'id': '1442616337558380551', 'text': 'The latest The Benjamin Post! https://t.co/73dkondjsv Thanks to @NordstromJoe @petercbradbury @StephenBright #ai #machinelearning'}, {'created_at': '2021-09-27T22:24:03.000Z', 'id': '1442616048952352770', 'text': 'Using #AI and old #reports \\n\\nto understand new #medical #images \\n\\nhttps://t.co/2NAIlKzy79 #fintech #insurtech #insurance #healthcare #ArtificialIntelligence #MachineLearning #DeepLearning @MIT_CSAIL @ahier @Ronald_vanLoon @DioFavatas @jblefevre60 @Fisher85M @MariaFariello1 https://t.co/s1BCvJCubZ'}, {'created_at': '2021-09-27T22:23:08.000Z', 'id': '1442615821012983808', 'text': '#ML has been marketed as the holy grail of cybersecurity. Claudia Ully will show us how #machinelearning actually works and why it is only yet another tool with its own strength and weaknesses. Join her at #BSidesBCN21 SagradaFamilia track on Sept 30 at 6.35pm CEST'}, {'created_at': '2021-09-27T22:22:09.000Z', 'id': '1442615571778916352', 'text': '#python #coding #datascience #programming #machinelearning Cheat sheets every data scientist should know! https://t.co/RLD3gId4ia'}, {'created_at': '2021-09-27T22:21:17.000Z', 'id': '1442615351913635848', 'text': 'The latest The neuroscience of learning Daily! https://t.co/pNhaKZNLaN #ai #machinelearning'}, {'created_at': '2021-09-27T22:21:02.000Z', 'id': '1442615290718679040', 'text': '#computerscience #artificialintelligence #machinelearning #ai Perceptions In Neural Networks, What Is It? https://t.co/MZSx4TngF3'}, {'created_at': '2021-09-27T22:20:32.000Z', 'id': '1442615165812293636', 'text': '#python #coding #datascience #programming #machinelearning Cheat sheets every data scientist should know! https://t.co/6Y6ndbaFUx'}, {'created_at': '2021-09-27T22:19:50.000Z', 'id': '1442614990259703809', 'text': 'Perceptions In Neural Networks, What Is It? https://t.co/KbCCxTVZHm #AI #MachineLearning #DataScience #ArtificialIntelligence\\n\\nTrending AI/ML Article Identified &amp; Digested via Granola; a Machine-Driven RSS Bot by Ramsey Elbasheer https://t.co/jPE7wNfNlI'}, {'created_at': '2021-09-27T22:19:48.000Z', 'id': '1442614980679852037', 'text': 'AI provides imaging solution for the Moon’s shadowy craters https://t.co/aC7uMIjcPy #AI #MachineLearning #DataScience #ArtificialIntelligence\\n\\nTrending AI/ML Article Identified &amp; Digested via Granola; a Machine-Driven RSS Bot by Ramsey Elbasheer https://t.co/kKMPO7JrKx'}, {'created_at': '2021-09-27T22:19:04.000Z', 'id': '1442614794314399746', 'text': '#computerscience #artificialintelligence #machinelearning #ai Perceptions In Neural Networks, What Is It? https://t.co/zeROXfdPRY'}, {'created_at': '2021-09-27T22:18:56.000Z', 'id': '1442614763024834561', 'text': 'The latest The Rex Daily! https://t.co/sHgbEUWHV1 Thanks to @diegoD026 #ai #machinelearning'}, {'created_at': '2021-09-27T22:18:35.000Z', 'id': '1442614673694547973', 'text': 'The latest The Technology Daily! https://t.co/kuG7GyLkMa Thanks to @ciobulletin #ai #machinelearning'}, {'created_at': '2021-09-27T22:18:23.000Z', 'id': '1442614625791401990', 'text': 'The latest Around Town! https://t.co/H0hJWMEp6x Thanks to @JoaquinCastrotx #ai #machinelearning'}, {'created_at': '2021-09-27T22:18:18.000Z', 'id': '1442614604715208708', 'text': 'Global Big Data Conference #Transformation #digital #learning #machinelearning via https://t.co/CaH2KlKKmK https://t.co/rZYsyU5Nqo'}, {'created_at': '2021-09-27T22:17:50.000Z', 'id': '1442614485680861185', 'text': 'The latest Finance, Technology &amp; Society! https://t.co/uuSo4w5NwJ Thanks to @JRBlack100 #machinelearning #ai'}, {'created_at': '2021-09-27T22:17:44.000Z', 'id': '1442614459000786944', 'text': 'Have your coursework ssignments handled by us,\\nFallclasses\\nFallsemester\\n#Programming\\nEnglishclass\\nHomeworks\\nCase study\\nOnlineClass\\n#matlab\\n#code\\n#webdev\\n#100DaysOfCode \\n#WomenWhoCode \\n#Javascript\\n#Serverless\\n#Django\\n#python\\n#CodeNewbie\\n#MachineLearning \\nhttps://t.co/ncV221a93w'}, {'created_at': '2021-09-27T22:17:35.000Z', 'id': '1442614420937510915', 'text': 'Are you having a busy schedule\\nwith your assignments,hmu \\n#MachineLearning:\\n#CodeNewbie\\n#ArtificialIntelligence #AI #DataScience #BigData #100DaysOfCode #Python #DeepLearning #NLP #Robots #IoT\\n#CyberSecurity\\n#DevOps\\n#javascript \\n#WomenWhoCode \\n#serverless https://t.co/SupOxcm5Zq'}, {'created_at': '2021-09-27T22:17:02.000Z', 'id': '1442614283271958537', 'text': 'Join us at BlackBerry Security Summit to hear from some of the brightest minds in the #cybersecurity and technology fields. #BBSS21 #AI #MachineLearning #IoT #ConnectedCar https://t.co/YJ3aXwrbZU https://t.co/8UYEZMfL2H'}, {'created_at': '2021-09-27T22:16:34.000Z', 'id': '1442614167341465602', 'text': '#Applications #MachineLearning AI provides imaging solution for the Moon’s shadowy craters https://t.co/nFb3o7zSJv https://t.co/GrYYoeOFZS'}, {'created_at': '2021-09-27T22:16:07.000Z', 'id': '1442614052245499905', 'text': 'Unreal Engine 5 To Steam #BigData #learning #machinelearning via https://t.co/wjnQGZ2PLX https://t.co/Vk97rFMpdp'}, {'created_at': '2021-09-27T22:15:46.000Z', 'id': '1442613965029318663', 'text': 'AI in the Sky: NVIDIA GPUs Help Researchers Remove Clouds from Satellite Images #DeepLearning #MachineLearning #NeuralNetworks https://t.co/Uc2CMayfsY'}, {'created_at': '2021-09-27T22:15:20.000Z', 'id': '1442613856665231361', 'text': '#hclswlobp #nocode #lowcode #javascript #github #nodejs #cybersecurity #devops #100DaysOfCode #datascience #ai #bot\\xa0\\xa0\\xa0\\xa0\\xa0 #codenewbie #iot #machinelearning #DEVCommunity #Python #Serverless #womenintech #data #microsoft #flutter \\n#postcovid #marketing https://t.co/49bt2Gb2N7'}, {'created_at': '2021-09-27T22:15:16.000Z', 'id': '1442613840215265280', 'text': '#womenintech #django #nocode #javascript #github #nodejs #cybersecurity #devops #100DaysOfCode #datascience #ai #bot #codenewbie #iot #machinelearning #Python #Serverless #womenintech #marketing #precisionmarketing #postcovid https://t.co/tA8LiSEYqE'}, {'created_at': '2021-09-27T22:15:14.000Z', 'id': '1442613829687414788', 'text': '#MachineLearning   is the field of study that gives #computers  the ability to learn without being explicit programed. “Arthur Samuel, 1959 “\\n\\n #jacksonbigdata'}, {'created_at': '2021-09-27T22:15:04.000Z', 'id': '1442613788922970116', 'text': 'Hello, hire us for\\nProofreading\\nFinal exams\\nHomework help\\nMath\\nEnglish\\nBiology\\nChemistry.\\nEcology.\\nAnatomy\\nPhysics\\n#cybersecurity #security  #100DaysOfCode #python #Java #javascript #NodeJs #AI #MachineLearning #DataScience \\n https://t.co/9XZe7YXSqA'}], 'meta': {'newest_id': '1442626512339996673', 'oldest_id': '1442613788922970116', 'result_count': 100, 'next_token': 'b26v89c19zqg8o3fpds6v1vp76m4hxef1k3q00jj6wf3x'}}\n"
     ]
    }
   ],
   "source": [
    "import requests\n",
    "response = requests.get(url, headers=headers, params=params)\n",
    "print(response)\n",
    "# Generar excepción si la respuesta no es exitosa\n",
    "if response.status_code != 200:\n",
    "    raise Exception(response.status_code, response.text)\n",
    "print(response.json())"
   ]
  },
  {
   "cell_type": "markdown",
   "id": "bee63cde",
   "metadata": {},
   "source": [
    "## Formatear respuesta\n",
    "\n",
    "Convertir respuesta en un dataframe de Pandas"
   ]
  },
  {
   "cell_type": "code",
   "execution_count": 7,
   "id": "6377ef96",
   "metadata": {},
   "outputs": [
    {
     "data": {
      "text/html": [
       "<div>\n",
       "<style scoped>\n",
       "    .dataframe tbody tr th:only-of-type {\n",
       "        vertical-align: middle;\n",
       "    }\n",
       "\n",
       "    .dataframe tbody tr th {\n",
       "        vertical-align: top;\n",
       "    }\n",
       "\n",
       "    .dataframe thead th {\n",
       "        text-align: right;\n",
       "    }\n",
       "</style>\n",
       "<table border=\"1\" class=\"dataframe\">\n",
       "  <thead>\n",
       "    <tr style=\"text-align: right;\">\n",
       "      <th></th>\n",
       "      <th>created_at</th>\n",
       "      <th>id</th>\n",
       "      <th>text</th>\n",
       "    </tr>\n",
       "  </thead>\n",
       "  <tbody>\n",
       "    <tr>\n",
       "      <th>0</th>\n",
       "      <td>2021-09-27T23:05:37.000Z</td>\n",
       "      <td>1442626512339996673</td>\n",
       "      <td>The latest The Chris Sterry Daily! https://t.c...</td>\n",
       "    </tr>\n",
       "    <tr>\n",
       "      <th>1</th>\n",
       "      <td>2021-09-27T23:05:15.000Z</td>\n",
       "      <td>1442626418102390790</td>\n",
       "      <td>#ai #ml #artificialintelligence #machinelearni...</td>\n",
       "    </tr>\n",
       "    <tr>\n",
       "      <th>2</th>\n",
       "      <td>2021-09-27T23:05:03.000Z</td>\n",
       "      <td>1442626369075048451</td>\n",
       "      <td>A neural network produced synthetic T2 maps of...</td>\n",
       "    </tr>\n",
       "    <tr>\n",
       "      <th>3</th>\n",
       "      <td>2021-09-27T23:04:07.000Z</td>\n",
       "      <td>1442626131736281089</td>\n",
       "      <td>The latest The Affiliate marketing Daily! http...</td>\n",
       "    </tr>\n",
       "    <tr>\n",
       "      <th>4</th>\n",
       "      <td>2021-09-27T23:03:15.000Z</td>\n",
       "      <td>1442625914785914881</td>\n",
       "      <td>Hands-on Azure Cognitive Services is out! I'm ...</td>\n",
       "    </tr>\n",
       "    <tr>\n",
       "      <th>...</th>\n",
       "      <td>...</td>\n",
       "      <td>...</td>\n",
       "      <td>...</td>\n",
       "    </tr>\n",
       "    <tr>\n",
       "      <th>95</th>\n",
       "      <td>2021-09-27T22:15:46.000Z</td>\n",
       "      <td>1442613965029318663</td>\n",
       "      <td>AI in the Sky: NVIDIA GPUs Help Researchers Re...</td>\n",
       "    </tr>\n",
       "    <tr>\n",
       "      <th>96</th>\n",
       "      <td>2021-09-27T22:15:20.000Z</td>\n",
       "      <td>1442613856665231361</td>\n",
       "      <td>#hclswlobp #nocode #lowcode #javascript #githu...</td>\n",
       "    </tr>\n",
       "    <tr>\n",
       "      <th>97</th>\n",
       "      <td>2021-09-27T22:15:16.000Z</td>\n",
       "      <td>1442613840215265280</td>\n",
       "      <td>#womenintech #django #nocode #javascript #gith...</td>\n",
       "    </tr>\n",
       "    <tr>\n",
       "      <th>98</th>\n",
       "      <td>2021-09-27T22:15:14.000Z</td>\n",
       "      <td>1442613829687414788</td>\n",
       "      <td>#MachineLearning   is the field of study that ...</td>\n",
       "    </tr>\n",
       "    <tr>\n",
       "      <th>99</th>\n",
       "      <td>2021-09-27T22:15:04.000Z</td>\n",
       "      <td>1442613788922970116</td>\n",
       "      <td>Hello, hire us for\\nProofreading\\nFinal exams\\...</td>\n",
       "    </tr>\n",
       "  </tbody>\n",
       "</table>\n",
       "<p>100 rows × 3 columns</p>\n",
       "</div>"
      ],
      "text/plain": [
       "                  created_at                   id  \\\n",
       "0   2021-09-27T23:05:37.000Z  1442626512339996673   \n",
       "1   2021-09-27T23:05:15.000Z  1442626418102390790   \n",
       "2   2021-09-27T23:05:03.000Z  1442626369075048451   \n",
       "3   2021-09-27T23:04:07.000Z  1442626131736281089   \n",
       "4   2021-09-27T23:03:15.000Z  1442625914785914881   \n",
       "..                       ...                  ...   \n",
       "95  2021-09-27T22:15:46.000Z  1442613965029318663   \n",
       "96  2021-09-27T22:15:20.000Z  1442613856665231361   \n",
       "97  2021-09-27T22:15:16.000Z  1442613840215265280   \n",
       "98  2021-09-27T22:15:14.000Z  1442613829687414788   \n",
       "99  2021-09-27T22:15:04.000Z  1442613788922970116   \n",
       "\n",
       "                                                 text  \n",
       "0   The latest The Chris Sterry Daily! https://t.c...  \n",
       "1   #ai #ml #artificialintelligence #machinelearni...  \n",
       "2   A neural network produced synthetic T2 maps of...  \n",
       "3   The latest The Affiliate marketing Daily! http...  \n",
       "4   Hands-on Azure Cognitive Services is out! I'm ...  \n",
       "..                                                ...  \n",
       "95  AI in the Sky: NVIDIA GPUs Help Researchers Re...  \n",
       "96  #hclswlobp #nocode #lowcode #javascript #githu...  \n",
       "97  #womenintech #django #nocode #javascript #gith...  \n",
       "98  #MachineLearning   is the field of study that ...  \n",
       "99  Hello, hire us for\\nProofreading\\nFinal exams\\...  \n",
       "\n",
       "[100 rows x 3 columns]"
      ]
     },
     "execution_count": 7,
     "metadata": {},
     "output_type": "execute_result"
    }
   ],
   "source": [
    "import pandas as pd\n",
    "df = pd.json_normalize(response.json()['data'])\n",
    "df"
   ]
  },
  {
   "cell_type": "markdown",
   "id": "5e23d4c6",
   "metadata": {},
   "source": [
    "# Ejercicios\n",
    "\n",
    " A partir de la documentación del endpoint <a href=\"https://developer.twitter.com/en/docs/twitter-api/tweets/search/api-reference/get-tweets-search-recent\"> Recent </a> y las opciones de <a href=\"https://developer.twitter.com/en/docs/twitter-api/tweets/search/integrate/build-a-query\"> query </a> obtener:\n",
    " \n",
    " - Una lista de las fechas y creación de los tweets realizados por el usuario @kdnuggets que contenga el hashtag #NLP"
   ]
  },
  {
   "cell_type": "code",
   "execution_count": 8,
   "id": "abbd9005",
   "metadata": {},
   "outputs": [
    {
     "name": "stdout",
     "output_type": "stream",
     "text": [
      "<Response [200]>\n"
     ]
    },
    {
     "data": {
      "text/html": [
       "<div>\n",
       "<style scoped>\n",
       "    .dataframe tbody tr th:only-of-type {\n",
       "        vertical-align: middle;\n",
       "    }\n",
       "\n",
       "    .dataframe tbody tr th {\n",
       "        vertical-align: top;\n",
       "    }\n",
       "\n",
       "    .dataframe thead th {\n",
       "        text-align: right;\n",
       "    }\n",
       "</style>\n",
       "<table border=\"1\" class=\"dataframe\">\n",
       "  <thead>\n",
       "    <tr style=\"text-align: right;\">\n",
       "      <th></th>\n",
       "      <th>created_at</th>\n",
       "      <th>id</th>\n",
       "      <th>text</th>\n",
       "    </tr>\n",
       "  </thead>\n",
       "  <tbody>\n",
       "    <tr>\n",
       "      <th>0</th>\n",
       "      <td>2021-09-26T15:37:38.000Z</td>\n",
       "      <td>1442151386163003396</td>\n",
       "      <td>Understanding the day-to-day applications of #...</td>\n",
       "    </tr>\n",
       "    <tr>\n",
       "      <th>1</th>\n",
       "      <td>2021-09-26T13:45:04.000Z</td>\n",
       "      <td>1442123056613249033</td>\n",
       "      <td>Understanding the day-to-day applications of #...</td>\n",
       "    </tr>\n",
       "    <tr>\n",
       "      <th>2</th>\n",
       "      <td>2021-09-25T11:46:43.000Z</td>\n",
       "      <td>1441730882310586375</td>\n",
       "      <td>Relax! #DataScientists will not go extinct in ...</td>\n",
       "    </tr>\n",
       "    <tr>\n",
       "      <th>3</th>\n",
       "      <td>2021-09-24T10:56:47.000Z</td>\n",
       "      <td>1441355928792551425</td>\n",
       "      <td>Are Larger Language Models Less Truthful?\\n\\n#...</td>\n",
       "    </tr>\n",
       "  </tbody>\n",
       "</table>\n",
       "</div>"
      ],
      "text/plain": [
       "                 created_at                   id  \\\n",
       "0  2021-09-26T15:37:38.000Z  1442151386163003396   \n",
       "1  2021-09-26T13:45:04.000Z  1442123056613249033   \n",
       "2  2021-09-25T11:46:43.000Z  1441730882310586375   \n",
       "3  2021-09-24T10:56:47.000Z  1441355928792551425   \n",
       "\n",
       "                                                text  \n",
       "0  Understanding the day-to-day applications of #...  \n",
       "1  Understanding the day-to-day applications of #...  \n",
       "2  Relax! #DataScientists will not go extinct in ...  \n",
       "3  Are Larger Language Models Less Truthful?\\n\\n#...  "
      ]
     },
     "execution_count": 8,
     "metadata": {},
     "output_type": "execute_result"
    }
   ],
   "source": [
    "user='@kdnuggets'\n",
    "hashtag='#NLP'\n",
    "params = {\n",
    "    'query': f'{user} {hashtag} -is:retweet',\n",
    "    'tweet.fields':'created_at',\n",
    "    'max_results':100\n",
    "}\n",
    "response = requests.get(url, headers=headers, params=params)\n",
    "print(response)\n",
    "# Generar excepción si la respuesta no es exitosa\n",
    "if response.status_code != 200:\n",
    "    raise Exception(response.status_code, response.text)\n",
    "df = pd.json_normalize(response.json()['data'])\n",
    "df"
   ]
  },
  {
   "cell_type": "markdown",
   "id": "a8fd45c2",
   "metadata": {},
   "source": [
    "- Una lista de los textos y nombres de usuario correspondientes a los tweets que contengan los hashtags #NLP y #MachineLearning que no sean retweets"
   ]
  },
  {
   "cell_type": "code",
   "execution_count": 16,
   "id": "2771d7f2",
   "metadata": {},
   "outputs": [
    {
     "name": "stdout",
     "output_type": "stream",
     "text": [
      "<Response [200]>\n",
      "{'data': [{'created_at': '2021-09-27T23:00:34.000Z', 'author_id': '840922607654445058', 'text': 'UN Rights Chief Calls for Moratorium on Artificial Intelligence Systems -  https://t.co/iivpqgPMQQ\\n\\n#ArtificialIntelligence #AI #DataScience #100DaysOfCode #Python #MachineLearning #BigData #DeepLearning #NLP #Robots #IoT', 'id': '1442625240903950345'}, {'created_at': '2021-09-27T23:00:09.000Z', 'author_id': '1341306390862827520', 'text': 'Hello\\nWe give high quality assignment assistance:\\n\\nHomework\\nFull classes\\nOnline classes\\nExams\\nEssays\\n#Serverless\\n#MachineLearning  #DataScience #5G #100DaysOfCode\\n#Python #Cybersecurity #BigData #AI #IoT #DeepLearning\\n#ArtificialIntelligence #NLP https://t.co/lVI8ikn9CQ', 'id': '1442625133798113285'}, {'created_at': '2021-09-27T22:33:20.000Z', 'author_id': '140618811', 'text': \"Preparing for the 'golden age' of #ArtificialIntelligence and #MachineLearning\\n2021-09-27T16:12:23Z\\n\\n#Numpy #JQuery #MachineLearning #ComputerArchitecture #Coursera #Bluetooth #WiFi #NLP #DicisionForests #SoftwareDefinedNetworking \\n\\nhttps://t.co/O1LnIzSQKD\", 'id': '1442618386962288642'}, {'created_at': '2021-09-27T22:25:30.000Z', 'author_id': '1341306390862827520', 'text': 'We give high quality assignment assistance:\\n\\nAssignment\\nHomework\\nFull classes\\nOnline classes\\nExams\\nEssays\\n#Serverless\\n#MachineLearning  #DataScience #5G #100DaysOfCode\\n#Python #Cybersecurity #BigData #AI #IoT #DeepLearning\\n#ArtificialIntelligence #NLP https://t.co/mHirIlqnzX', 'id': '1442616415715045378'}, {'created_at': '2021-09-27T22:17:35.000Z', 'author_id': '1341306390862827520', 'text': 'Are you having a busy schedule\\nwith your assignments,hmu \\n#MachineLearning:\\n#CodeNewbie\\n#ArtificialIntelligence #AI #DataScience #BigData #100DaysOfCode #Python #DeepLearning #NLP #Robots #IoT\\n#CyberSecurity\\n#DevOps\\n#javascript \\n#WomenWhoCode \\n#serverless https://t.co/SupOxcm5Zq', 'id': '1442614420937510915'}, {'created_at': '2021-09-27T22:08:30.000Z', 'author_id': '1341306390862827520', 'text': 'Let CLASS ASSIGNMENTS NOT OVERWHELM YOU!\\n#History\\n#Algebra\\n#Case study\\n#CodeNewbie\\n#DigitalTransformation\\n#javascript\\n#ArtificialIntelligence #AI #DataScience #MachineLearning #BigData #100DaysOfCode #Python #DeepLearning #NLP #Robots\\n#cybersecurity\\n\\n https://t.co/VsKoKPpsWD', 'id': '1442612135461363715'}, {'created_at': '2021-09-27T22:00:43.000Z', 'author_id': '840922607654445058', 'text': 'US forms expert committee to advise on artificial intelligence – Government &amp; civil service news -  https://t.co/7Y89c0W23O\\n\\n#ArtificialIntelligence #AI #DataScience #100DaysOfCode #Python #MachineLearning #BigData #DeepLearning #NLP #Rob…', 'id': '1442610176083865605'}, {'created_at': '2021-09-27T21:49:31.000Z', 'author_id': '467513287', 'text': 'We need concrete protections from artificial intelligence threatening human rights » Stuff - Stuff Magazines\\n\\nRead more here: https://t.co/SPfTXfPqxJ\\n\\n#ArtificialIntelligence #AI #DataScience #100DaysOfCode #Python #MachineLearning #BigData #DeepLearning #NLP #Robots #IoT', 'id': '1442607359331745796'}, {'created_at': '2021-09-27T21:27:50.000Z', 'author_id': '1351335202757423104', 'text': 'How is information delivered to human beings by machines? \\nLearn how pull and push strategies define how relevant information is delivered to the end user\\n\\n#nlp #machinelearning #ai\\n\\nhttps://t.co/9f3g6Fc7AJ', 'id': '1442601903414812678'}, {'created_at': '2021-09-27T21:25:40.000Z', 'author_id': '918112383628963841', 'text': 'Heart Disease Insurance Market Is Set to Experience a Revolutionary Growth : Aviva, Legal &amp; General Group, Aflac - Digital Journal https://t.co/1uK2EUYGtk\\n\\n#DataScience #MachineLearning #DeepLearning #Insurance #NLP #Robots #AI #IoT #BigData', 'id': '1442601356452237312'}, {'created_at': '2021-09-27T21:21:31.000Z', 'author_id': '22146921', 'text': '[CL] Transformers Generalize Linearly, J Petty, R Frank [Yale University] (2021) https://t.co/gLajVS2YOp\\n#MachineLearning #ML #AI #NLP https://t.co/feshvbOQl1', 'id': '1442600311340797954'}, {'created_at': '2021-09-27T21:03:04.000Z', 'author_id': '1287932395694546945', 'text': 'Hire us to do your\\n#dissertation\\n #thesis\\n#researchpaper\\n #termpaper\\n#casestudies\\n#proposals\\n #discussionpostboard\\n#MachineLearning  #DataScience #tech #100DaysOfCode\\n#Python #Cybersecurity #BigData #AI  #DeepLearning\\n#ArtificialIntelligence #NLP #BrandsHatch\\nDm', 'id': '1442595671996080136'}, {'created_at': '2021-09-27T21:01:23.000Z', 'author_id': '1280052985473744896', 'text': 'UKG (Ultimate Kronos Group) is hiring a Data Scientist\\n\\n#hiring #datasciencejobs #datayoshi #MachineLearning #Java #NLP\\n\\n⬇️⬇️ Apply here ⬇️⬇️\\n\\nhttps://t.co/7I2t77h3E3', 'id': '1442595246169153544'}, {'created_at': '2021-09-27T21:00:52.000Z', 'author_id': '1287932395694546945', 'text': 'Hire us to do your\\n#dissertation\\n #thesis\\n#researchpaper\\n #termpaper, \\n#casestudies\\n#proposals,\\n #discussionpostboard\\n#MachineLearning  #DataScience #tech #100DaysOfCode\\n#Python #Cybersecurity #BigData #AI  #DeepLearning\\n#ArtificialIntelligence #NLP #BrandsHatch\\n @Idealtutor2020', 'id': '1442595116103856137'}, {'created_at': '2021-09-27T20:40:56.000Z', 'author_id': '1364806129717563394', 'text': 'زوار الأربعينية يتجاوزون الـ 14 مليوناً\\n#ArtificialIntelligence #AI #DataScience #100DaysOfCode #Python #MachineLearning #BigData #DeepLearning #NLP #Robots #IoT\\n#DEVCommunity\\n#Linux\\n#javascript\\n#cybersecurity\\n#infosec\\n https://t.co/ukx8fw0hHo', 'id': '1442590100383207425'}, {'created_at': '2021-09-27T20:40:34.000Z', 'author_id': '1355257214529892352', 'text': 'زوار الأربعينية يتجاوزون الـ 14 مليوناً\\n#ArtificialIntelligence #AI #DataScience #100DaysOfCode #Python #MachineLearning #BigData #DeepLearning #NLP #Robots #IoT\\n#DEVCommunity\\n#Linux\\n#javascript\\n#cybersecurity\\n#infosec\\n https://t.co/FGhxxosqBn', 'id': '1442590008771186688'}, {'created_at': '2021-09-27T20:40:08.000Z', 'author_id': '1365037396807602177', 'text': 'زوار الأربعينية يتجاوزون الـ 14 مليوناً\\n#ArtificialIntelligence #AI #DataScience #100DaysOfCode #Python #MachineLearning #BigData #DeepLearning #NLP #Robots #IoT\\n#DEVCommunity\\n#Linux\\n#javascript\\n#cybersecurity\\n#infosec\\n https://t.co/YVoVQeL77a', 'id': '1442589899044053000'}, {'created_at': '2021-09-27T20:39:31.000Z', 'author_id': '1009557305074036736', 'text': '#Python3 Cheat Sheet. \\n\\nVia @ingliguori\\n \\nhttps://t.co/LsiJHwu8Iq\\n#MachineLearning #DataScience #programming #DataScientists #Analytics #BigData #AI #Python #DataScience #ML #NLP #javascript #TensorFlow #Coding #Serverless  #Dataviz #DEVCommunity #Devops #SQL #RStats #CodeNewbie https://t.co/cYKQFVDQyW', 'id': '1442589742206496776'}, {'created_at': '2021-09-27T20:39:20.000Z', 'author_id': '1365033981696237571', 'text': 'زوار الأربعينية يتجاوزون الـ 14 مليوناً\\n#ArtificialIntelligence #AI #DataScience #100DaysOfCode #Python #MachineLearning #BigData #DeepLearning #NLP #Robots #IoT\\n#DEVCommunity\\n#Linux\\n#javascript\\n#cybersecurity\\n#infosec\\n#innovation https://t.co/FYxhhGFdtn', 'id': '1442589695733555202'}, {'created_at': '2021-09-27T20:30:00.000Z', 'author_id': '752910638192660482', 'text': 'How much are we willing to pay for a bug? 🐞\\nhttps://t.co/LPFGRWWfaI\\n\\n#SoftwareTesting #QualityFirst #TestAutomation #ArtificialIntelligence #NLP #RPA #AI #ML #MachineLearning #BlogPost #Blog #GoodRead', 'id': '1442587346474524672'}, {'created_at': '2021-09-27T20:06:43.000Z', 'author_id': '1287932395694546945', 'text': '@Idealtutor2020 \\nCreate monetized Solutions.\\n\\n#100DaysOfCode #OpenSource\\n#DEVCommunity #development\\n#techtwitter #fridaymorning\\n#MachineLearning #javascript\\n#cybersecurity #Python #HTML\\n#WomenWhoCode #Website\\n#webdevelopment #gamedev\\n#webdev #AI #NLP #DeepLearning\\n#Ten', 'id': '1442581490122903560'}, {'created_at': '2021-09-27T20:04:38.000Z', 'author_id': '326229600', 'text': 'Automated Interactive Reports with #Plotly and #Python\\nBy @TDataScience \\n#DataScience #cryptocurrency #IoT #NLP #Crypto #Blockchain\\n#100DaysOfCode #Bigdata #AI #IIot #ArtificiallIntelligence #4IR #MachineLearning #DeepLearning\\n#Fintech #Futureofwork #RPA \\n\\nhttps://t.co/csUMHGUe73 https://t.co/3vyoau9S2V', 'id': '1442580965331722250'}, {'created_at': '2021-09-27T20:04:12.000Z', 'author_id': '1287932395694546945', 'text': 'Dm him now for #CyberSecurity\\nMaths, essay @Idealtutor2020 \\n#programming #database #Data #DataScientists #Analytics #BigData #AI #Python #DataScience #Tech #IoT #ML #NLP #javascript #TensorFlow #Coding #Serverless\\xa0 #100DaysOfCode #Dataviz #MachineLearning \\n#Devops', 'id': '1442580856325935108'}, {'created_at': '2021-09-27T19:48:43.000Z', 'author_id': '737142202481016832', 'text': 'Irina Shayk https://t.co/ojqF37MeKF \\n#Digital\\n#teCh #Cloud\\n#AI #DataScience #finServ #MachineLearning #BigData #100DaysOfCode #Python #DeepLearning #NLP #IoT #DevOps #5G #FRENCHteCh #fashion #btw21 #RyderCup\\n#flutter #CX #CodeNewbie  #business #WEbinar\\n#WomenWhoCode #SOciaLmediA', 'id': '1442576959838380039'}, {'created_at': '2021-09-27T19:43:57.000Z', 'author_id': '1009557305074036736', 'text': 'Deep Ensembles: A Loss Landscape Perspective.\\nhttps://t.co/LsiJHwu8Iq\\n#NLP #MachineLearning #BigData #Analytics #DataScience #IoT  #Python #RStats #JavaScript #ReactJS #5G #CloudComputing #Serverless #DataScientist #Linux #Maths #Programming #Coding  #futureofwork  #AI https://t.co/m7fU8TEmBi', 'id': '1442575760422801408'}, {'created_at': '2021-09-27T19:39:06.000Z', 'author_id': '714139373', 'text': 'Dvoice is a speech recognition tool for under-represented languages. Version 1.0 is monolingual, trained on Moroccan Arabic. Here is some interesting links...\\n- Web App : https://t.co/OAFPv0j0gP\\n- GitHub : https://t.co/ueOpsbScMf\\n#ArtificialIntelligence #NLP #MachineLearning', 'id': '1442574537481244675'}, {'created_at': '2021-09-27T19:30:13.000Z', 'author_id': '24914741', 'text': 'Learn how to apply #naturallanguageprocessing to search applications, extracting meaning from text, sentiment analysis and user profiling with Getting Started with Natural Language Processing: https://t.co/XcmWOrHiIb \\n#nlp #machinelearning #naturallanguageprocessing https://t.co/SqVNwMEtld', 'id': '1442572303825575938'}, {'created_at': '2021-09-27T19:29:46.000Z', 'author_id': '867730727349215232', 'text': 'The World of #MachineLearning \\n\\nVia @freelancerDm\\n\\n#DataScience #programming #DataScientists #Analytics #BigData #AI #Python #DataScience #ML #NLP #javascript #TensorFlow #Coding #Serverless\\xa0#100DaysOfCode #Dataviz #DEVCommunity #Devops #SQL #RStats #CodeNewbie #Linux #DataOps https://t.co/ENaItEda0P', 'id': '1442572190428377092'}, {'created_at': '2021-09-27T19:25:49.000Z', 'author_id': '918112383628963841', 'text': 'Huge Growth of Critical Illness Commercial Insurance Market by 2028 with Top Key Players – China Life Insurance, Ping An Insurance, China Pacific Insurance - Digital Journal https://t.co/vIs4JbowNz\\n\\n#DataScience #MachineLearning #DeepLearning #Insurance #NLP #Robots #AI #IoT #B…', 'id': '1442571197015752709'}, {'created_at': '2021-09-27T19:23:08.000Z', 'author_id': '867730727349215232', 'text': 'FLUTTER DEVELOPER\\n#Flutter\\n#vacancy 🇱🇧\\n#ArtificialIntelligence \\n#DigitalMarketing\\n#cybersecurity\\n#AI #DataScience #MachineLearning #BigData #100DaysOfCode #Python #DeepLearning #NLP #Robots #IoT\\n#DevOps\\n#DigitalTransformation\\n#CodeNewbie\\n#WomenWhoCode @freelancerDm https://t.co/gB8TpJU9gR', 'id': '1442570522726830082'}, {'created_at': '2021-09-27T19:01:19.000Z', 'author_id': '1332574629827727362', 'text': 'hi hello @ingliguori\\n #DataScience #Python #DataScience #Tech #IoT #ML #NLP #javascript #TensorFlow #Coding #Serverless #100DaysOfCode #Dataviz #MachineLearning \\n#Devops #SQL #RStats #CodeNewbie\\ni am t-shirt designer do you need any designe contact me \\nhttps://t.co/fZyOeOc5Cj', 'id': '1442565032068337665'}, {'created_at': '2021-09-27T19:00:06.000Z', 'author_id': '1332574629827727362', 'text': 'hi hello @ingliguori\\n #DataScience #Python #DataScience #Tech #IoT #ML #NLP #javascript #TensorFlow #Coding #Serverless #100DaysOfCode #Dataviz #MachineLearning \\n#Devops #SQL #RStats #CodeNewbie\\ni am t-shirt designer do you need any designe contact me \\nhttps://t.co/gdXOUr5Ngq', 'id': '1442564723937976326'}, {'created_at': '2021-09-27T18:59:59.000Z', 'author_id': '752910638192660482', 'text': 'People experience different challenges when starting with test automation. Here are some common challenges that customers face - and how Virtuoso can help you solve them! Check it out: https://t.co/g92hkDfRhv\\n\\n#ArtificialIntelligence #MachineLearning #NLP #RPA #QualityFirst', 'id': '1442564696519835649'}, {'created_at': '2021-09-27T18:49:13.000Z', 'author_id': '467513287', 'text': 'Algorithmic Warfare: AI Key to Unlocking New Space Applications - National Defense Magazine\\n\\nRead more here: https://t.co/uOd2Eo5eGA\\n\\n#ArtificialIntelligence #AI #DataScience #100DaysOfCode #Python #MachineLearning #BigData #DeepLearning #NLP #Robots #IoT', 'id': '1442561983677706243'}, {'created_at': '2021-09-27T18:49:12.000Z', 'author_id': '467513287', 'text': 'Slinger to Acquire https://t.co/1tXNtH71Yw, an Award-Winning Artificial - GlobeNewswire\\n\\nRead more here: https://t.co/H30CgVL7H5\\n\\n#ArtificialIntelligence #AI #DataScience #100DaysOfCode #Python #MachineLearning #BigData #DeepLearning #NLP #Robots #IoT', 'id': '1442561980020183042'}, {'created_at': '2021-09-27T18:46:03.000Z', 'author_id': '705539763349164032', 'text': 'Improving Language Model Behavior by Training on a Curated Dataset\\n\\nhttps://t.co/pjc4ZL79li @OpenAI\\n\\n#NLP #AI #MachineLearning #AIEthics\\nCc @jblefevre60 @Paula_Piccard @SpirosMargaris @HaroldSinnott @Xbond49 @kashthefuturist @Nicochan33 @MiaD @roxanasoi @archonsec @hessiejones https://t.co/zcaDSjgSpI', 'id': '1442561187066138628'}, {'created_at': '2021-09-27T18:35:36.000Z', 'author_id': '230791628', 'text': 'Big Tech &amp; Their Favourite Deep Learning Techniques\\n\\n#programming #database #Data #DataScientists #Analytics #BigData #AI #Python #DataScience #Tech #IoT #ML #NLP #javascript #TensorFlow #Coding #Serverless\\xa0 #100DaysOfCode #Dataviz #MachineLearning \\n https://t.co/QVPDPAiPh6 https://t.co/CqWQvt8Fci', 'id': '1442558560274026497'}, {'created_at': '2021-09-27T18:34:37.000Z', 'author_id': '230791628', 'text': 'How to Learn Machine Learning from Scratch\\n\\n#programming #database #Data #DataScientists #Analytics #BigData #AI #Python #DataScience #Tech #IoT #ML #NLP #javascript #TensorFlow #Coding #Serverless\\xa0 #100DaysOfCode #Dataviz #MachineLearning \\n#Devops \\n\\n https://t.co/Qu6mouBgF0 https://t.co/HoolIvdyz9', 'id': '1442558312227262465'}, {'created_at': '2021-09-27T18:33:46.000Z', 'author_id': '230791628', 'text': 'Real Time Image Segmentation Using 5 Lines of Code\\n\\n#programming #database #Data #DataScientists #Analytics #BigData #AI #Python #DataScience #Tech #IoT #ML #NLP #javascript #TensorFlow #Coding #Serverless\\xa0 #100DaysOfCode #Dataviz #MachineLearning \\n https://t.co/r1tbNpiMwE https://t.co/Y5rjdFV6Bz', 'id': '1442558096057016322'}, {'created_at': '2021-09-27T18:33:44.000Z', 'author_id': '1335278877661409284', 'text': '#AI #DataScience #programming #DataScientists #Analytics #BigData #Python #DataScience #Tech #IoT #ML #NLP #javascript #TensorFlow #Coding #Great #Serverless #100DaysOfCode #Dataviz #MachineLearning #IoT #JacksonWang \\n#Devops #SQL #RStats #CodeNewbie https://t.co/2QxDVzA1Oo', 'id': '1442558088666550276'}, {'created_at': '2021-09-27T18:32:55.000Z', 'author_id': '867730727349215232', 'text': 'For quality assignment help and good grades DM.\\n\\nEssays\\nExams\\nHomework\\nBiology\\nEnglish\\n#FALLSEMESTER \\nEcology\\nAnatomy\\nDm @freelancerDm\\n#MachineLearning  #DataScience #5G #100DaysOfCode\\n#Python #Cybersecurity #BigData #AI #IoT #DeepLearning\\n#ArtificialIntelligence #NLP #robots', 'id': '1442557882407350272'}, {'created_at': '2021-09-27T18:32:13.000Z', 'author_id': '230791628', 'text': 'How I became a Data Engineer from scratch \\n\\n#programming #database #Data #DataScientists #Analytics #BigData #AI #Python #DataScience #Tech #IoT #ML #NLP #javascript #TensorFlow #Coding #Serverless\\xa0 #100DaysOfCode #Dataviz #MachineLearning \\n#Devops  https://t.co/fX0t1nyXSi https://t.co/vQ1oRy270M', 'id': '1442557707345543172'}, {'created_at': '2021-09-27T18:31:21.000Z', 'author_id': '867730727349215232', 'text': 'DM or email for all your academic assistance\\n#MachineLearning #DataScience #5G #100DaysOfCode #Python #Cybersecurity #BigData #AI #IoT #DeepLearning #ArtificialIntelligence #NLP #robots #Industry40 #tech #DEVCommunity\\n#javascript #joke #TechnoSupport https://t.co/5xjRBsLacM', 'id': '1442557488465735683'}, {'created_at': '2021-09-27T18:30:57.000Z', 'author_id': '230791628', 'text': 'AIs could become reward junkies — and experts are worried\\n\\n#programming #database #Data #DataScientists #Analytics #BigData #AI #Python #DataScience #Tech #IoT #ML #NLP #javascript #TensorFlow #Coding #Serverless\\xa0 #100DaysOfCode #Dataviz #MachineLearning  https://t.co/UQazL9BXMM https://t.co/LzJ0tYNaM8', 'id': '1442557388926693378'}, {'created_at': '2021-09-27T18:28:27.000Z', 'author_id': '1364806129717563394', 'text': 'التحالف يعترف بسقوط مأرب ويحمل قيادات الإصلاح الهزيمة \\n#cybersecurity\\n#AI #DataScience #MachineLearning #BigData #100DaysOfCode #Python #DeepLearning #NLP #Robots #IoT\\n#DevOps\\n#DigitalTransformation\\n#WomenWhoCode\\nhttps://t.co/Z8jOB9kdXj', 'id': '1442556757633548302'}, {'created_at': '2021-09-27T18:27:49.000Z', 'author_id': '1365033981696237571', 'text': 'التحالف يعترف بسقوط مأرب ويحمل قيادات الإصلاح الهزيمة \\n#cybersecurity\\n#AI #DataScience #MachineLearning #BigData #100DaysOfCode #Python #DeepLearning #NLP #Robots #IoT\\n#DevOps\\n#DigitalTransformation\\n#WomenWhoCode\\nhttps://t.co/jDtv92ZIrj', 'id': '1442556598275252224'}, {'created_at': '2021-09-27T18:27:20.000Z', 'author_id': '1365037396807602177', 'text': 'التحالف يعترف بسقوط مأرب ويحمل قيادات الإصلاح الهزيمة \\n#cybersecurity\\n#AI #DataScience #MachineLearning #BigData #100DaysOfCode #Python #DeepLearning #NLP #Robots #IoT\\n#DevOps\\n#DigitalTransformation\\n#WomenWhoCode\\nhttps://t.co/ixnjYB4sgM', 'id': '1442556479639326724'}, {'created_at': '2021-09-27T18:27:02.000Z', 'author_id': '1355257214529892352', 'text': 'التحالف يعترف بسقوط مأرب ويحمل قيادات الإصلاح الهزيمة \\n#cybersecurity\\n#AI #DataScience #MachineLearning #BigData #100DaysOfCode #Python #DeepLearning #NLP #Robots #IoT\\n#DevOps\\n#DigitalTransformation\\n#WomenWhoCode\\nhttps://t.co/X5kuzYl0FL', 'id': '1442556400966639622'}, {'created_at': '2021-09-27T18:27:00.000Z', 'author_id': '1083699084760895496', 'text': 'One stop Business Solution @ Nikseam\\n#FrontEndDeveloper #DEVCommunity\\n#cybersecurity #ArtificialIntelligence #DataScience #MachineLearning #BigData #100DaysOfCode #Python #DeepLearning #NLP #nikseam #Robots #IoT #mumbai #DevOps #5G #DigitalTransformation #WomenWhoCode #Startup https://t.co/yeKMVCjFRf', 'id': '1442556393211318272'}, {'created_at': '2021-09-27T18:25:44.000Z', 'author_id': '918112383628963841', 'text': 'Agriculture Analytics Market to Witness Huge Growth by 2026 | Oracle, Accenture, IBM, SAP - Herefordshire Live - Herefordshire Live https://t.co/xl7uURK9UY\\n\\n#DataScience #MachineLearning #DeepLearning #Insurance #NLP #Robots #AI #IoT #BigData', 'id': '1442556076533043204'}, {'created_at': '2021-09-27T18:24:00.000Z', 'author_id': '33557787', 'text': 'Recommended for YOU:\\nhttps://t.co/4CDx8Kli8I\\n\\n#artificialintelligence #NLP #naturallanguageprocessing #MachineLearning #BigData #DataAnalytics #DataScience #5G #100DaysOfCode #Analytics #DataScientist #Search #AI #IoT #DeepLearning #techblog #socialmediamarketing #recommendation https://t.co/Vwju6RG8Qo', 'id': '1442555640493187072'}, {'created_at': '2021-09-27T18:21:43.000Z', 'author_id': '1368227387985526787', 'text': 'التحالف يعترف بسقوط مأرب ويحمل قيادات الإصلاح الهزيمة \\n#ArtificialIntelligence \\n#DigitalMarketing\\n#cybersecurity\\n#AI #DataScience #MachineLearning #BigData #100DaysOfCode #Python #DeepLearning #NLP #Robots #IoT\\n#DevOps\\n#DigitalTransformation\\n#WomenWhoCode\\nhttps://t.co/xFewEWY51b', 'id': '1442555065429020677'}, {'created_at': '2021-09-27T18:13:36.000Z', 'author_id': '1400418183052283911', 'text': 'Why Artificial Intelligence’s religious biases are worrying\\n.\\n.\\n.\\nhttps://t.co/T16nLip7K8\\n.\\n.\\n.\\n.\\n#ArtificialIntelligence #AI #DataScience #100DaysOfCode #Python #MachineLearning #BigData #DeepLearning #NLP #Robots #IoT #ComputerVision\\n#DataScientist', 'id': '1442553023373340672'}, {'created_at': '2021-09-27T18:13:27.000Z', 'author_id': '1155470031225884675', 'text': 'Impact of Covid-19 on IoT adoption in Smart Buildings▶️\\n#Analytics #MachineLearning #AI #Rstats #Reactjs #IoT #IIoT #NLP #Linux #flutter #Serverless #javascript #SDGs #TensorFlow #CloudComputing\\n#BigData #Robotics #SmartCities #5G #SmartHome #100DaysOfCode\\nhttps://t.co/ReB5kYP33l https://t.co/dWrrMJcD0d', 'id': '1442552986266324996'}, {'created_at': '2021-09-27T18:01:03.000Z', 'author_id': '215309395', 'text': 'AI Adoption Is Happening Now: https://t.co/KdGB0Vw3eq via @forbes by @archil_c\\n\\n#AI #Adoption #Automation #MachineLearning #NLP #DataScience #PredictiveAnalytics #EduTech #FinTech #InsurTech #VoiceTech #Retail #UserExperience | RT @ErwanDemont https://t.co/1qr2qQAhmU', 'id': '1442549862713544709'}, {'created_at': '2021-09-27T17:57:58.000Z', 'author_id': '1355257214529892352', 'text': 'BEST WAYS TO MONETIZE YOUR DATA SCIENCE SKILLS AS A DATA SCIENTIST IN 2021\\n#DigitalMarketing\\n#cybersecurity\\n#AI #DataScience #MachineLearning #BigData #100DaysOfCode #Python #DeepLearning #NLP #Robots #IoT\\n#DevOps\\n#DigitalTransformation\\n#CodeNewbie\\n https://t.co/hxdKqNB0bY', 'id': '1442549087706963970'}, {'created_at': '2021-09-27T17:56:28.000Z', 'author_id': '1364806129717563394', 'text': 'BEST WAYS TO MONETIZE YOUR DATA SCIENCE SKILLS AS A DATA SCIENTIST IN 2021\\n#DigitalMarketing\\n#cybersecurity\\n#AI #DataScience #MachineLearning #BigData #100DaysOfCode #Python #DeepLearning #NLP #Robots #IoT\\n#DevOps\\n#DigitalTransformation\\n#CodeNewbie\\n https://t.co/2O374T5UcT', 'id': '1442548709481455617'}, {'created_at': '2021-09-27T17:55:35.000Z', 'author_id': '1365033981696237571', 'text': 'BEST WAYS TO MONETIZE YOUR DATA SCIENCE SKILLS AS A DATA SCIENTIST IN 2021\\n#DigitalMarketing\\n#cybersecurity\\n#AI #DataScience #MachineLearning #BigData #100DaysOfCode #Python #DeepLearning #NLP #Robots #IoT\\n#DevOps\\n#DigitalTransformation\\n#CodeNewbie\\n https://t.co/njG09aDmzM', 'id': '1442548488345034756'}, {'created_at': '2021-09-27T17:54:59.000Z', 'author_id': '1365037396807602177', 'text': 'BEST WAYS TO MONETIZE YOUR DATA SCIENCE SKILLS AS A DATA SCIENTIST IN 2021\\n#DigitalMarketing\\n#cybersecurity\\n#AI #DataScience #MachineLearning #BigData #100DaysOfCode #Python #DeepLearning #NLP #Robots #IoT\\n#DevOps\\n#DigitalTransformation\\n#CodeNewbie\\n https://t.co/ydCnFlaDVB', 'id': '1442548336884547586'}, {'created_at': '2021-09-27T17:52:51.000Z', 'author_id': '1368227387985526787', 'text': 'BEST WAYS TO MONETIZE YOUR DATA SCIENCE SKILLS AS A DATA SCIENTIST IN 2021\\n#DigitalMarketing\\n#cybersecurity\\n#AI #DataScience #MachineLearning #BigData #100DaysOfCode #Python #DeepLearning #NLP #Robots #IoT\\n#DevOps\\n#DigitalTransformation\\n#CodeNewbie\\n https://t.co/5HvwMToJRi', 'id': '1442547799166439424'}, {'created_at': '2021-09-27T17:49:10.000Z', 'author_id': '467513287', 'text': 'Exploring Artificial Intelligence in Healthcare Around the Globe - https://t.co/ph4UYTHa6u\\n\\nRead more here: https://t.co/vIOfncGlgl\\n\\n#ArtificialIntelligence #AI #DataScience #100DaysOfCode #Python #MachineLearning #BigData #DeepLearning #NLP #Robots #IoT', 'id': '1442546873752031233'}, {'created_at': '2021-09-27T17:49:09.000Z', 'author_id': '467513287', 'text': 'Artificial Intelligence EHR System May Speed Up Physician Processes - https://t.co/EP6HjFCjCP\\n\\nRead more here: https://t.co/YA2JMD3IvH\\n\\n#ArtificialIntelligence #AI #DataScience #100DaysOfCode #Python #MachineLearning #BigData #DeepLearning #NLP #Robots #IoT', 'id': '1442546868957896706'}, {'created_at': '2021-09-27T17:49:08.000Z', 'author_id': '467513287', 'text': 'How to Use Artificial Intelligence for Conversational Marketing - TechBullion\\n\\nRead more here: https://t.co/tekXkutUYk\\n\\n#ArtificialIntelligence #AI #DataScience #100DaysOfCode #Python #MachineLearning #BigData #DeepLearning #NLP #Robots #IoT', 'id': '1442546863710916615'}, {'created_at': '2021-09-27T17:49:07.000Z', 'author_id': '467513287', 'text': 'We need concrete protections from artificial intelligence threatening human rights - Tech Xplore\\n\\nRead more here: https://t.co/SlxlMZFO3F\\n\\n#ArtificialIntelligence #AI #DataScience #100DaysOfCode #Python #MachineLearning #BigData #DeepLearning #NLP #Robots #IoT', 'id': '1442546860166729729'}, {'created_at': '2021-09-27T17:49:06.000Z', 'author_id': '467513287', 'text': \"Preparing for the 'golden age' of artificial intelligence and machine learning - OODA Loop\\n\\nRead more here: https://t.co/dFByIQ0AUH\\n\\n#ArtificialIntelligence #AI #DataScience #100DaysOfCode #Python #MachineLearning #BigData #DeepLearning #NLP #Robots #IoT\", 'id': '1442546854923735042'}, {'created_at': '2021-09-27T17:23:55.000Z', 'author_id': '1435645100051206154', 'text': 'Get Organic Positive Google Reviews\\nhttps://t.co/8jrsy4B1gk\\n🇺🇸🇺🇸🇺🇸🇺🇸\\n#FraudDetection #Financial #ArtificialIntelligence  #MachineLearning #NLP #AI #100DaysofCode #serverless #iot #womenwhocode #Python #BigData #Analytics #DataScience #DeepLearning #Algorithms https://t.co/bydyV2J4Xa', 'id': '1442540517212835847'}, {'created_at': '2021-09-27T17:17:03.000Z', 'author_id': '347933189', 'text': 'Hyper-automation: The Future of Digital Transformation\\n#HYPERAUTOMATION #INTELLIGENTAUTOMATION #NLP #PANDEMIC #ROBOTICPROCESSAUTOMATION #ROBOTICS #TECHNOLOGY #AI #AUTOMATION #DIGITALTRANSFORMATION #MACHINELEARNING #RPA\\nhttps://t.co/zj1uNxdYz7 https://t.co/MHoO0wae8Q', 'id': '1442538790585765891'}, {'created_at': '2021-09-27T17:15:01.000Z', 'author_id': '969542076', 'text': 'May The Force Of Digital Transformation Be With You https://t.co/0e2VZTZQFd #DataScience #MachineLearning #Deeplearning #GlobalAI #NLP #NoSQL #IoT #Tensorflow #Bigdata #cassandra #kafka #hadoop #spark #R #Python #Serverless #Kubernetes #DataMining #Database', 'id': '1442538277458829314'}, {'created_at': '2021-09-27T17:02:19.000Z', 'author_id': '24914741', 'text': 'Deal of the Day, Sep 27: Conversational AI and select titles are on sale. Check them out: https://t.co/DcpsoLjhbo  \\n\\n#virtualassistant #AmazonAlexa #GoogleAssistant #voiceapps #searchengine #AI #NLP #machinelearning https://t.co/dR0iinBpkU', 'id': '1442535085090115593'}, {'created_at': '2021-09-27T16:58:26.000Z', 'author_id': '20853968', 'text': '@IainLJBrown\\nNew Artificial Intelligence Tool Accelerates Discovery of Truly New Materials - SciTechDaily\\n\\nRead more here: \\n\\n#ArtificialIntelligence #AI #DataScience #100DaysOfCode #Python #MachineLearning #BigData #DeepLearning #NLP #Robots #IoT https://t.co/Z5L5e88arK', 'id': '1442534108014338048'}, {'created_at': '2021-09-27T16:48:38.000Z', 'author_id': '114136795', 'text': '#JasonRoy on a Roll.\\nFIFTY on debut for #SRH @JasonRoy20. #HyderabadRains #SRHvRR #RRvsSRH #ShehnaazGiIl #SRHvRR #VIVOIPL #MachineLearning #DataScience #programming #BigData #AI #Python #DataScience #ML #NLP #java #Stata #Devops #SQL #RStats #Linux \\n https://t.co/yXzL7voY38', 'id': '1442531641709060101'}, {'created_at': '2021-09-27T16:46:16.000Z', 'author_id': '1426407466405822465', 'text': 'How To Buy Reviews On Google https://t.co/3AWj9wtKRO via @issuu \\n🥰🥰🥰\\n#MachineLearning  #DataScience #5G #100DaysOfCode #Python #Cybersecurity #usaxoom #BigData #AI #IoT #DeepLearning #ArtificialIntelligence #NLP #robots \\n#Industry40 #tech #DEVCommunity #javascript30', 'id': '1442531046071799814'}, {'created_at': '2021-09-27T16:43:05.000Z', 'author_id': '3010572600', 'text': \"From #medicalimaging to #NLP, #federatedlearning is a #machinelearning model that’s making waves. What can we expect in the future? On this episode of #CyberSecurityInside #WTM, Camille @morhardt and @IntelUK's Olga Perepelkina forecast. Tune in. https://t.co/hoc9AQjXzm https://t.co/7CBpIsxodR\", 'id': '1442530243227627525'}, {'created_at': '2021-09-27T16:41:09.000Z', 'author_id': '114136795', 'text': '#Python3 Cheat Sheet. @ALSALHAN \\n#MachineLearning #DataScience #programming #DataScientists #Analytics #BigData #AI #Python #DataScience #ML #NLP #java #TensorFlow #Coding #Serverless\\xa0#100DaysOfCode #Dataviz #Stata #Devops #SQL #RStats #CodeNewbie #Linux https://t.co/Mz1unbFjY4', 'id': '1442529756721778706'}, {'created_at': '2021-09-27T16:35:05.000Z', 'author_id': '1643123766', 'text': '#speechrecognition #deeplearning #wav2vec #nlp #machinelearning Speech2Text with Sentence Similarity https://t.co/IPi8lM26e4', 'id': '1442528229621846017'}, {'created_at': '2021-09-27T16:35:04.000Z', 'author_id': '969542076', 'text': \"Preparing for the 'golden age' of #artificialintelligence and #machinelearning https://t.co/AnTHPF7krc #Bigdata #Cassandra #Kafka #Hadoop #spark #DeepLearning #R #python #NLP #NoSQL #IoT #TensorFlow #Serverless #Kubernetes #GlobalAI #Deeplearning\", 'id': '1442528223439597568'}, {'created_at': '2021-09-27T16:35:00.000Z', 'author_id': '1320676594780934144', 'text': 'Take a break and listen to this #poem created with Machine Learning.\\n#takeabreak #machinelearning #datascience #AI #ArtificialIntelligence  #Technology #Innovation #pythonprogramming #poetry #poemoftheday #AIcreativity #Python #AIart #poems #NLP #botpoetssociety #WritingCommunity https://t.co/ZjWAMLfb5b', 'id': '1442528207794802689'}, {'created_at': '2021-09-27T16:32:10.000Z', 'author_id': '1643123766', 'text': '#speechrecognition #deeplearning #wav2vec #nlp #machinelearning Speech2Text with Sentence Similarity https://t.co/EfgVjDkpUV', 'id': '1442527495664726037'}, {'created_at': '2021-09-27T16:30:00.000Z', 'author_id': '1362778551682928646', 'text': 'A sentiment analysis system combines #NLP and #machinelearning techniques to allocate sentiment values to topics, themes, and categories within sentences.\\nhttps://t.co/j4LSnsvEMm\\n#AI #textanalytics #deeplearning #datascience #100daysofcode #developers #retail #tech #socialmedia https://t.co/rIjSxO9pSA', 'id': '1442526951017693186'}, {'created_at': '2021-09-27T16:29:59.000Z', 'author_id': '752910638192660482', 'text': \"Fill in the blank:\\nTest automation with Virtuoso is _____\\n\\nHere's what we think: https://t.co/54HJGPh5sB 🎉\\n\\n#ArtificialIntelligence #Blog #MachineLearning #ML #RPA #NLP #TestAutomation #QualityFirst #SoftwareTesting\", 'id': '1442526947515396099'}, {'created_at': '2021-09-27T16:27:58.000Z', 'author_id': '1124580497596866560', 'text': 'DM or email for all your academic assistance\\n#MachineLearning #DataScience #5G #100DaysOfCode #Python #Cybersecurity #BigData #AI #IoT #DeepLearning #ArtificialIntelligence #NLP #robots #Industry40 #tech #DEVCommunity\\n#javascript #joke #TechnoSupport https://t.co/RMO0nrzEOB', 'id': '1442526438238924801'}, {'created_at': '2021-09-27T16:27:41.000Z', 'author_id': '1124580497596866560', 'text': 'Dm for  assignment help,\\nHomeworks\\nOnline classes\\nExams\\nEssays\\nFallclasses\\n\\nMaths\\nAlgebra\\nCalculus 1 &amp; 2\\nTrigonometry\\nStatistics\\n\\n#MachineLearning  \\n#Python #Cybersecurity #BigData #AI #IoT #DeepLearning #NFT \\n#ArtificialIntelligence #NLP #iPhone https://t.co/0iGvl4bMmT', 'id': '1442526367829086209'}, {'created_at': '2021-09-27T16:27:00.000Z', 'author_id': '1083699084760895496', 'text': 'One stop Business Solution @ Nikseam\\n#FrontEndDeveloper #DEVCommunity\\n#cybersecurity #ArtificialIntelligence #DataScience #MachineLearning #BigData #100DaysOfCode #Python #DeepLearning #NLP #nikseam #Robots #IoT #mumbai #DevOps #5G #DigitalTransformation #WomenWhoCode #Startup https://t.co/tS2fuCXWlJ', 'id': '1442526194516127750'}, {'created_at': '2021-09-27T16:25:48.000Z', 'author_id': '918112383628963841', 'text': 'Captive insurance people moves news | R&amp;Q adds global head of legacy business - Captive Insurance Times https://t.co/KJJ5JxtC6n\\n\\n#DataScience #MachineLearning #DeepLearning #Insurance #NLP #Robots #AI #IoT #BigData', 'id': '1442525893226807299'}, {'created_at': '2021-09-27T16:25:46.000Z', 'author_id': '918112383628963841', 'text': 'Urgent reasons to foster insurer data visibility - PropertyCasualty360 https://t.co/X1zhdBlndv\\n\\n#DataScience #MachineLearning #DeepLearning #Insurance #NLP #Robots #AI #IoT #BigData', 'id': '1442525884846596097'}, {'created_at': '2021-09-27T16:25:44.000Z', 'author_id': '918112383628963841', 'text': 'UN, governments and industry join forces to grow climate protection globally - The Insurance Insider https://t.co/9uBFXzkH5G\\n\\n#DataScience #MachineLearning #DeepLearning #Insurance #NLP #Robots #AI #IoT #BigData', 'id': '1442525878764904449'}, {'created_at': '2021-09-27T16:25:19.000Z', 'author_id': '1124580497596866560', 'text': 'Dm for  assignment help,\\nHomeworks\\nOnline classes\\nExams\\nEssays\\nFallclasses\\n\\nMaths\\nAlgebra\\nCalculus 1 &amp; 2\\nTrigonometry\\nStatistics\\n\\n#MachineLearning  #DataScience #5G #100DaysOfCode\\n#Python #Cybersecurity #BigData #AI #IoT #DeepLearning #NFT \\n#ArtificialIntelligence #NLP #iPhone', 'id': '1442525771466084362'}, {'created_at': '2021-09-27T16:23:28.000Z', 'author_id': '1438130756036042754', 'text': 'Dm for  assignment help \\n@MunaithaEssays\\nHomeworks\\nOnline class\\nExam\\nEssay\\nFallclass\\nMaths\\nAlgebra\\nCalculus 1 &amp; 2\\nTrigonometry\\nStatistics\\n#MachineLearning  #DataScience #5G #100DaysOfCode\\n#Python #Cybersecurity #BigData #AI #IoT #DeepLearning\\n#ArtificialIntelligence #NLP https://t.co/OXkdEE28TY', 'id': '1442525305277587466'}, {'created_at': '2021-09-27T16:20:04.000Z', 'author_id': '836510570', 'text': '#MachineLearning Algorithms\\nVia @ingliguori #DataScience #programming #DataScientists #Analytics #BigData #AI #Python #DataScience #ML #NLP #javascript #TensorFlow #Coding #DEVCommunity #Serverless\\xa0\\n#100DaysOfCode #Dataviz #Devops #SQL #RStats #CodeNewbie #Linux #100DaysOfMLCode https://t.co/lSfbbT6N2G', 'id': '1442524449778147334'}, {'created_at': '2021-09-27T16:08:36.000Z', 'author_id': '1325405852535320577', 'text': '#AMTECHDAY\\n📢 Venez découvrir comment le #MachineLearning appliqué à la #traduction #financiere  aide les institutions financières à être plus réactives sur leurs marchés!!📈\\n@LinguaCustodia vous accueille #booth n°2\\n#AI #NLP #machinetranslation', 'id': '1442521563346001932'}, {'created_at': '2021-09-27T16:02:28.000Z', 'author_id': '369515982', 'text': '#Python3 Cheat Sheet. \\n\\nVia @ingliguori \\n\\n#MachineLearning #DataScience #programming #DataScientists #Analytics #BigData #AI #Python #DataScience #ML #NLP #javascript #TensorFlow #Coding #Serverless\\xa0#100DaysOfCode #Dataviz #DEVCommunity #Devops #SQL #RStats #CodeNewbie #Linux https://t.co/zWflOtNxhA', 'id': '1442520023264731145'}, {'created_at': '2021-09-27T16:00:48.000Z', 'author_id': '2477954400', 'text': '#Python3 Cheat Sheet. \\n\\n#MachineLearning #DataScience #programming #DataScientists #Analytics #BigData #AI #Python #DataScience #ML #NLP #javascript #TensorFlow #Coding #Great #Serverless #100DaysOfCode  #DEVCommunity #Devops #SQL #RStats #CodeNewbie #Linux', 'id': '1442519601602908161'}, {'created_at': '2021-09-27T16:00:33.000Z', 'author_id': '2477954400', 'text': '#Python3 Cheat Sheet. \\n\\n#MachineLearning #DataScience #programming #DataScientists #Analytics #BigData #AI #Python #DataScience #ML #NLP #javascript #TensorFlow #Coding #Serverless #100DaysOfCode #Dataviz #DEVCommunity #Devops #SQL #RStats #CodeNewbie #Linux', 'id': '1442519540923961349'}, {'created_at': '2021-09-27T16:00:01.000Z', 'author_id': '1112711079552053250', 'text': '🏹Time flies like an arrow, fruit flies like a banana, but how would an AI make sense of this sentence?\\n\\n@_Yuchen_Li_ of @mldcmu explains why context is so important for #MachineLearning and #NLP https://t.co/2ulzYipDGT https://t.co/blTSqo7xkR', 'id': '1442519404005052423'}, {'created_at': '2021-09-27T15:56:15.000Z', 'author_id': '2477954400', 'text': '#Python3 Cheat Sheet. \\n\\n#MachineLearning #DataScience #programming #DataScientists #Analytics #BigData #AI #Python #DataScience #ML #NLP #javascript #TensorFlow #Coding #Great #Serverless #100DaysOfCode #Dataviz #DEVCommunity #Devops #SQL #RStats #CodeNewbie #Linux', 'id': '1442518456000135168'}, {'created_at': '2021-09-27T15:52:14.000Z', 'author_id': '737142202481016832', 'text': 'https://t.co/8mPhJYatVJ\\n#Digital\\n#teCh #Cloud\\n#AI #DataScience #finServ #MachineLearning #BigData #100DaysOfCode #Python #DeepLearning #NLP #IoT #DevOps #5G #FRENCHteCh \\n#flutter #CX #fashion #healthCare #WOMEN #Entrepreneur #USA\\n#CodeNewbie  #business\\n#WomenWhoCode #SOciaLmediA', 'id': '1442517445424545792'}, {'created_at': '2021-09-27T15:50:07.000Z', 'author_id': '737142202481016832', 'text': 'https://t.co/AwcPkJd657 \\n@BetaMoroney\\n@enilev \\n@EvaSmartAI \\n\\n#Digital\\n#teCh #Cloud\\n#AI #DataScience #finServ #MachineLearning #BigData #100DaysOfCode #Python #DeepLearning #NLP #IoT #DevOps #5G #FRENCHteCh \\n#flutter #CX #insuranCe\\n#CodeNewbie  #business\\n#WomenWhoCode #SOciaLmediA', 'id': '1442516914253697028'}, {'created_at': '2021-09-27T15:49:46.000Z', 'author_id': '467513287', 'text': 'We need concrete protections from artificial intelligence threatening human rights » Stuff - Stuff Magazines\\n\\nRead more here: https://t.co/SPfTXg71Wj\\n\\n#ArtificialIntelligence #AI #DataScience #100DaysOfCode #Python #MachineLearning #BigData #DeepLearning #NLP #Robots #IoT', 'id': '1442516823883276296'}, {'created_at': '2021-09-27T15:49:34.000Z', 'author_id': '969542076', 'text': '#Cloud #artificialintelligence startup @Akkio raises $3M from #BainCapital https://t.co/kCmAdIj8s2 #DataScience #BigData #cassandra #Kafka #Hadoop #spark #NLP #NoSQL #IoT #MachineLearning #Deeplearning #AI #GlobalAI #R #Python #TensorFlow #Serverless #Kubernetes #DataBase', 'id': '1442516775489314818'}, {'created_at': '2021-09-27T15:47:43.000Z', 'author_id': '2291115129', 'text': 'https://t.co/SITooSBufp #vacancy #Lebanon\\n#ArtificialIntelligence \\n#DigitalMarketing\\n#cybersecurity\\n#AI #DataScience #MachineLearning #BigData #100DaysOfCode #Python #DeepLearning #NLP #Robots #IoT\\n#DevOps\\n#DigitalTransformation\\n#CodeNewbie\\n#WomenWhoCode \\n#React', 'id': '1442516311540748296'}], 'includes': {'users': [{'id': '840922607654445058', 'name': 'DataWorkout', 'username': 'dataworkout'}, {'id': '1341306390862827520', 'name': 'Excellent Writers', 'username': 'writersxcellent'}, {'id': '140618811', 'name': 'Richard Kim', 'username': 'richardkimphd'}, {'id': '467513287', 'name': 'Iain Brown, PhD', 'username': 'IainLJBrown'}, {'id': '1351335202757423104', 'name': \"Andrea D'Agostino\", 'username': 'theDrewDag'}, {'id': '918112383628963841', 'name': 'David Sobo', 'username': 'DS_Analytics'}, {'id': '22146921', 'name': 'fly51fly', 'username': 'fly51fly'}, {'id': '1287932395694546945', 'name': 'Ideal Tutors. Research. HW. Assignment. Quiz', 'username': 'Idealtutor2020'}, {'id': '1280052985473744896', 'name': 'datayoshi_jobs', 'username': 'Datayoshi_jobs'}, {'id': '1364806129717563394', 'name': 'W a j d i k a y a l', 'username': 'Wajdialkayal1'}, {'id': '1355257214529892352', 'name': 'Wajdi Alkayal', 'username': 'WajdiAlkayal'}, {'id': '1365037396807602177', 'name': 'WMK-IT', 'username': 'alkayal_wajdi'}, {'id': '1009557305074036736', 'name': '⚡ #AIScience #BigData #Analytics #DataScience #Io⚡', 'username': '2018Iptv'}, {'id': '1365033981696237571', 'name': 'WMK-IT &TECH', 'username': 'AlkayalWajdi'}, {'id': '752910638192660482', 'name': 'Virtuoso', 'username': 'Virtuoso_QA'}, {'id': '326229600', 'name': 'Fabrizio Bustamante', 'username': 'Fabriziobustama'}, {'id': '737142202481016832', 'name': 'Chidambara .ML.', 'username': 'chidambara09'}, {'id': '714139373', 'name': 'A$AP Ntibe 🇰🇲', 'username': 'nairaxo'}, {'id': '24914741', 'name': 'Manning Publications', 'username': 'ManningBooks'}, {'id': '867730727349215232', 'name': 'Essay Helper', 'username': 'freelancerDm'}, {'id': '1332574629827727362', 'name': 'Ali Akbor', 'username': 'AliAkbo42682095'}, {'id': '705539763349164032', 'name': 'ipfconline', 'username': 'ipfconline1'}, {'id': '230791628', 'name': 'Mais AbuSalah', 'username': 'mais_abusalah'}, {'id': '1335278877661409284', 'name': 'Jakeli', 'username': 'Jakeli12704641'}, {'id': '1083699084760895496', 'name': 'Nikseam', 'username': 'NikseamC'}, {'id': '33557787', 'name': 'J. Cafesin', 'username': 'jcafesin'}, {'id': '1368227387985526787', 'name': 'WMK Tech', 'username': 'wmktech'}, {'id': '1400418183052283911', 'name': 'Indika AI', 'username': 'Indika_AI'}, {'id': '1155470031225884675', 'name': 'Mack - Emerging Techs', 'username': 'Analytics_699'}, {'id': '215309395', 'name': 'Guido Kerkhof', 'username': 'GuidoKerkhof'}, {'id': '1435645100051206154', 'name': 'Neil Esparz', 'username': 'EsparzNeil'}, {'id': '347933189', 'name': 'Xorlogics', 'username': 'xorlogics'}, {'id': '969542076', 'name': 'Big Data Conference', 'username': 'bigdataconf'}, {'id': '20853968', 'name': 'Lorenzo H. Gómez', 'username': 'lgomezperu'}, {'id': '114136795', 'name': 'Mr. SK Shukla', 'username': 'SudheerPhDJNU'}, {'id': '1426407466405822465', 'name': 'Justine Booth', 'username': 'JustineBooth20'}, {'id': '3010572600', 'name': 'Tom Garrison', 'username': 'tommgarrison'}, {'id': '1643123766', 'name': 'Umair', 'username': 'akbarth3great'}, {'id': '1320676594780934144', 'name': 'Bot Poets Society', 'username': 'BotPoetsSociety'}, {'id': '1362778551682928646', 'name': 'Intellect Data', 'username': 'Intellect_Data'}, {'id': '1124580497596866560', 'name': 'GRADE A+ASSIGNMENTS HELP 📝', 'username': 'GradeAEsssays'}, {'id': '1438130756036042754', 'name': 'Munaitha Assignments •Exams✍️✍️', 'username': 'MunaithaEssays'}, {'id': '836510570', 'name': 'Giuliano Liguori', 'username': 'ingliguori'}, {'id': '1325405852535320577', 'name': 'Frederic MOIOLI', 'username': 'FredericMoioli'}, {'id': '369515982', 'name': 'Shahul Hameed.M 🇮🇳', 'username': 'sh_hameed'}, {'id': '2477954400', 'name': 'raja007', 'username': 'raja00710'}, {'id': '1112711079552053250', 'name': 'AIhub', 'username': 'aihuborg'}, {'id': '2291115129', 'name': 'Yazan_Mansour', 'username': 'MansurYazen'}]}, 'meta': {'newest_id': '1442625240903950345', 'oldest_id': '1442516311540748296', 'result_count': 100, 'next_token': 'b26v89c19zqg8o3fpds6uzqz6dntxml8du7k3xrna5z0d'}}\n"
     ]
    },
    {
     "data": {
      "text/html": [
       "<div>\n",
       "<style scoped>\n",
       "    .dataframe tbody tr th:only-of-type {\n",
       "        vertical-align: middle;\n",
       "    }\n",
       "\n",
       "    .dataframe tbody tr th {\n",
       "        vertical-align: top;\n",
       "    }\n",
       "\n",
       "    .dataframe thead th {\n",
       "        text-align: right;\n",
       "    }\n",
       "</style>\n",
       "<table border=\"1\" class=\"dataframe\">\n",
       "  <thead>\n",
       "    <tr style=\"text-align: right;\">\n",
       "      <th></th>\n",
       "      <th>created_at</th>\n",
       "      <th>author_id</th>\n",
       "      <th>text</th>\n",
       "      <th>id</th>\n",
       "    </tr>\n",
       "  </thead>\n",
       "  <tbody>\n",
       "    <tr>\n",
       "      <th>0</th>\n",
       "      <td>2021-09-27T23:00:34.000Z</td>\n",
       "      <td>840922607654445058</td>\n",
       "      <td>UN Rights Chief Calls for Moratorium on Artifi...</td>\n",
       "      <td>1442625240903950345</td>\n",
       "    </tr>\n",
       "    <tr>\n",
       "      <th>1</th>\n",
       "      <td>2021-09-27T23:00:09.000Z</td>\n",
       "      <td>1341306390862827520</td>\n",
       "      <td>Hello\\nWe give high quality assignment assista...</td>\n",
       "      <td>1442625133798113285</td>\n",
       "    </tr>\n",
       "    <tr>\n",
       "      <th>2</th>\n",
       "      <td>2021-09-27T22:33:20.000Z</td>\n",
       "      <td>140618811</td>\n",
       "      <td>Preparing for the 'golden age' of #ArtificialI...</td>\n",
       "      <td>1442618386962288642</td>\n",
       "    </tr>\n",
       "    <tr>\n",
       "      <th>3</th>\n",
       "      <td>2021-09-27T22:25:30.000Z</td>\n",
       "      <td>1341306390862827520</td>\n",
       "      <td>We give high quality assignment assistance:\\n\\...</td>\n",
       "      <td>1442616415715045378</td>\n",
       "    </tr>\n",
       "    <tr>\n",
       "      <th>4</th>\n",
       "      <td>2021-09-27T22:17:35.000Z</td>\n",
       "      <td>1341306390862827520</td>\n",
       "      <td>Are you having a busy schedule\\nwith your assi...</td>\n",
       "      <td>1442614420937510915</td>\n",
       "    </tr>\n",
       "    <tr>\n",
       "      <th>...</th>\n",
       "      <td>...</td>\n",
       "      <td>...</td>\n",
       "      <td>...</td>\n",
       "      <td>...</td>\n",
       "    </tr>\n",
       "    <tr>\n",
       "      <th>95</th>\n",
       "      <td>2021-09-27T15:52:14.000Z</td>\n",
       "      <td>737142202481016832</td>\n",
       "      <td>https://t.co/8mPhJYatVJ\\n#Digital\\n#teCh #Clou...</td>\n",
       "      <td>1442517445424545792</td>\n",
       "    </tr>\n",
       "    <tr>\n",
       "      <th>96</th>\n",
       "      <td>2021-09-27T15:50:07.000Z</td>\n",
       "      <td>737142202481016832</td>\n",
       "      <td>https://t.co/AwcPkJd657 \\n@BetaMoroney\\n@enile...</td>\n",
       "      <td>1442516914253697028</td>\n",
       "    </tr>\n",
       "    <tr>\n",
       "      <th>97</th>\n",
       "      <td>2021-09-27T15:49:46.000Z</td>\n",
       "      <td>467513287</td>\n",
       "      <td>We need concrete protections from artificial i...</td>\n",
       "      <td>1442516823883276296</td>\n",
       "    </tr>\n",
       "    <tr>\n",
       "      <th>98</th>\n",
       "      <td>2021-09-27T15:49:34.000Z</td>\n",
       "      <td>969542076</td>\n",
       "      <td>#Cloud #artificialintelligence startup @Akkio ...</td>\n",
       "      <td>1442516775489314818</td>\n",
       "    </tr>\n",
       "    <tr>\n",
       "      <th>99</th>\n",
       "      <td>2021-09-27T15:47:43.000Z</td>\n",
       "      <td>2291115129</td>\n",
       "      <td>https://t.co/SITooSBufp #vacancy #Lebanon\\n#Ar...</td>\n",
       "      <td>1442516311540748296</td>\n",
       "    </tr>\n",
       "  </tbody>\n",
       "</table>\n",
       "<p>100 rows × 4 columns</p>\n",
       "</div>"
      ],
      "text/plain": [
       "                  created_at            author_id  \\\n",
       "0   2021-09-27T23:00:34.000Z   840922607654445058   \n",
       "1   2021-09-27T23:00:09.000Z  1341306390862827520   \n",
       "2   2021-09-27T22:33:20.000Z            140618811   \n",
       "3   2021-09-27T22:25:30.000Z  1341306390862827520   \n",
       "4   2021-09-27T22:17:35.000Z  1341306390862827520   \n",
       "..                       ...                  ...   \n",
       "95  2021-09-27T15:52:14.000Z   737142202481016832   \n",
       "96  2021-09-27T15:50:07.000Z   737142202481016832   \n",
       "97  2021-09-27T15:49:46.000Z            467513287   \n",
       "98  2021-09-27T15:49:34.000Z            969542076   \n",
       "99  2021-09-27T15:47:43.000Z           2291115129   \n",
       "\n",
       "                                                 text                   id  \n",
       "0   UN Rights Chief Calls for Moratorium on Artifi...  1442625240903950345  \n",
       "1   Hello\\nWe give high quality assignment assista...  1442625133798113285  \n",
       "2   Preparing for the 'golden age' of #ArtificialI...  1442618386962288642  \n",
       "3   We give high quality assignment assistance:\\n\\...  1442616415715045378  \n",
       "4   Are you having a busy schedule\\nwith your assi...  1442614420937510915  \n",
       "..                                                ...                  ...  \n",
       "95  https://t.co/8mPhJYatVJ\\n#Digital\\n#teCh #Clou...  1442517445424545792  \n",
       "96  https://t.co/AwcPkJd657 \\n@BetaMoroney\\n@enile...  1442516914253697028  \n",
       "97  We need concrete protections from artificial i...  1442516823883276296  \n",
       "98  #Cloud #artificialintelligence startup @Akkio ...  1442516775489314818  \n",
       "99  https://t.co/SITooSBufp #vacancy #Lebanon\\n#Ar...  1442516311540748296  \n",
       "\n",
       "[100 rows x 4 columns]"
      ]
     },
     "execution_count": 16,
     "metadata": {},
     "output_type": "execute_result"
    }
   ],
   "source": [
    "hashtag='#NLP #MachineLearning'\n",
    "params = {\n",
    "    'query': f'{hashtag} -is:retweet',\n",
    "    'tweet.fields': 'created_at',\n",
    "    'user.fields': 'username',\n",
    "    'expansions': 'author_id',\n",
    "    'max_results': 100\n",
    "}\n",
    "response = requests.get(url, headers=headers, params=params)\n",
    "print(response)\n",
    "# Generar excepción si la respuesta no es exitosa\n",
    "if response.status_code != 200:\n",
    "    raise Exception(response.status_code, response.text)\n",
    "print(response.json())\n",
    "df = pd.json_normalize(response.json()['data'])\n",
    "df"
   ]
  },
  {
   "cell_type": "markdown",
   "id": "ed3deeac",
   "metadata": {},
   "source": [
    "- Una lista de los textos y enlaces de los tweets que contengan los hashtags #InteligenciaArtificial o #IA en español"
   ]
  },
  {
   "cell_type": "code",
   "execution_count": null,
   "id": "867275e8",
   "metadata": {},
   "outputs": [],
   "source": []
  },
  {
   "cell_type": "markdown",
   "id": "238118d1",
   "metadata": {},
   "source": [
    "## Descargar a CSV"
   ]
  },
  {
   "cell_type": "code",
   "execution_count": 19,
   "id": "19fe8189",
   "metadata": {},
   "outputs": [],
   "source": [
    "df.to_csv('tweets_ej.csv')  "
   ]
  },
  {
   "cell_type": "code",
   "execution_count": null,
   "id": "47d3b815",
   "metadata": {},
   "outputs": [],
   "source": []
  }
 ],
 "metadata": {
  "kernelspec": {
   "display_name": "Python 3",
   "language": "python",
   "name": "python3"
  },
  "language_info": {
   "codemirror_mode": {
    "name": "ipython",
    "version": 3
   },
   "file_extension": ".py",
   "mimetype": "text/x-python",
   "name": "python",
   "nbconvert_exporter": "python",
   "pygments_lexer": "ipython3",
   "version": "3.8.8"
  }
 },
 "nbformat": 4,
 "nbformat_minor": 5
}
