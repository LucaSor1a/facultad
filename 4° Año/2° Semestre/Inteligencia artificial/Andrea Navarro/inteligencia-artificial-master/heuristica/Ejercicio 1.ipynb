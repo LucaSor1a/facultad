{
 "cells": [
  {
   "cell_type": "markdown",
   "metadata": {},
   "source": [
    "# El problema del viajante\n",
    "\n",
    "Dada una lista de ciudades y las distancias entre cada par de ciudades determinar la ruta más pequeña posible que visite cada ciudad y regrese a la ciudad de origen.\n",
    "\n",
    "El problema en esta situación consiste en ser un problema de combinatoria donde el costo computacional de evaluar todas las combinaciones posibles aumenta mientras se incrementa la cantidad de ciudades.\n",
    "\n",
    "Para obtener lo datos para la resolución y la heurística puede utilizarse la herramienta Google Maps."
   ]
  },
  {
   "cell_type": "markdown",
   "metadata": {},
   "source": [
    "# Primera parte\n",
    "\n",
    "Resolver el problema utilizando un método de fuerza bruta para los siguientes destinos:\n",
    "\n",
    "- San Rafael\n",
    "- El sosneado\n",
    "- Jaime Prats\n",
    "- Gral. Alvear\n",
    "\n",
    "Mostrar el costo de todas las rutas"
   ]
  },
  {
   "cell_type": "code",
   "execution_count": 6,
   "metadata": {},
   "outputs": [
    {
     "name": "stdout",
     "output_type": "stream",
     "text": [
      "(1, 2, 3)\n",
      "(1, 3, 2)\n",
      "(2, 1, 3)\n",
      "(2, 3, 1)\n",
      "(3, 1, 2)\n",
      "(3, 2, 1)\n"
     ]
    }
   ],
   "source": [
    "import itertools\n",
    "for item in itertools.permutations([1, 2, 3]):\n",
    "    print(item)"
   ]
  },
  {
   "cell_type": "markdown",
   "metadata": {},
   "source": [
    "# Segunda parte\n",
    "\n",
    "Resolver el problema agregando heurística para los siguientes destinos:\n",
    "\n",
    "- San Rafael\n",
    "- El Nihuil\n",
    "- El sosneado\n",
    "- Villa Atuel\n",
    "- Jaime Prats\n",
    "- Las Malvinas\n",
    "- Salto de las Rosas\n",
    "- Rama caída\n",
    "- Monte Coman\n",
    "- Gral. Alvear\n",
    "- Rincón del Atuel\n",
    "\n",
    "Responder:\n",
    "\n",
    "- ¿Qué heurística se utilizó? \n"
   ]
  },
  {
   "cell_type": "code",
   "execution_count": null,
   "metadata": {},
   "outputs": [],
   "source": []
  }
 ],
 "metadata": {
  "kernelspec": {
   "display_name": "Python 3",
   "language": "python",
   "name": "python3"
  },
  "language_info": {
   "codemirror_mode": {
    "name": "ipython",
    "version": 3
   },
   "file_extension": ".py",
   "mimetype": "text/x-python",
   "name": "python",
   "nbconvert_exporter": "python",
   "pygments_lexer": "ipython3",
   "version": "3.7.6"
  }
 },
 "nbformat": 4,
 "nbformat_minor": 4
}
